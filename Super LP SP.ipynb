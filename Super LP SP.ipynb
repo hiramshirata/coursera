{
 "cells": [
  {
   "cell_type": "markdown",
   "metadata": {},
   "source": [
    "# Análise de desempenho - Super LP SP"
   ]
  },
  {
   "cell_type": "markdown",
   "metadata": {},
   "source": [
    "## Geral"
   ]
  },
  {
   "cell_type": "code",
   "execution_count": 1,
   "metadata": {},
   "outputs": [],
   "source": [
    "# Importing libraries\n",
    "from apiclient.discovery import build\n",
    "from oauth2client.service_account import ServiceAccountCredentials\n",
    "from google.auth import app_engine\n",
    "from math import ceil\n",
    "from os import path\n",
    "import pandas as pd\n",
    "import datetime\n",
    "import calendar\n",
    "import os\n",
    "import numpy as np\n",
    "import requests\n",
    "import json\n",
    "from google.cloud import bigquery\n",
    "from google.auth import app_engine\n",
    "import hashlib\n",
    "import hmac\n",
    "import locale"
   ]
  },
  {
   "cell_type": "code",
   "execution_count": 2,
   "metadata": {},
   "outputs": [
    {
     "output_type": "execute_result",
     "data": {
      "text/plain": [
       "'pt_BR.UTF-8'"
      ]
     },
     "metadata": {},
     "execution_count": 2
    }
   ],
   "source": [
    "# Defining global vars\n",
    "secret = bytes('rQt8FyPbHiVAKok2Phkqf8rTzuDDkIfyU8VlUdFo6vJXVU06188rXZTXMkePG8oxBb4zgMYnvYju8cEa8giujeBeyGuyjRcbhmIhtFtJ4eyyH8J0H1j4ujgedwsr7kl2IXafVpfCrXZp8066GiZJnpouSFpK1pNietbBjbbF1di4wtphPgeZZRJwXkAiHArso64wCkmvXz5WAbCaHe5ZS5RkKCxy1fGa03WzdahIQSO1zlpPGrRygPtY8snb0PsJ', 'utf-8')\n",
    "SCOPES = ['https://www.googleapis.com/auth/analytics.readonly']\n",
    "KEY_FILE_LOCATION = './contabilizei-dataflow-c09ddfe8334e.json'\n",
    "KEY_FILE_BIGQUERY = './contabilizei-dataflow-c49121aa9533.json'\n",
    "VIEW_ID = '176785806'\n",
    "pd.set_option('display.float_format', lambda x: '%.3f' % x)\n",
    "locale.setlocale(locale.LC_ALL, 'pt_BR.UTF-8')"
   ]
  },
  {
   "cell_type": "code",
   "execution_count": 3,
   "metadata": {},
   "outputs": [],
   "source": [
    "def email_to_uid(email):\n",
    "    hash = hmac.new(secret,bytes(email, 'utf-8'),hashlib.sha256)\n",
    "    return hash.hexdigest()"
   ]
  },
  {
   "cell_type": "code",
   "execution_count": 4,
   "metadata": {},
   "outputs": [],
   "source": [
    "# Config GA Connection\n",
    "credentials = ServiceAccountCredentials.from_json_keyfile_name(KEY_FILE_LOCATION, SCOPES)\n",
    "analytics = build('analyticsreporting', 'v4', credentials=credentials)"
   ]
  },
  {
   "cell_type": "code",
   "execution_count": 4,
   "metadata": {},
   "outputs": [],
   "source": [
    "# GA Default functions\n",
    "def initialize_analyticsreporting():\n",
    "    credentials = ServiceAccountCredentials.from_json_keyfile_name(KEY_FILE_LOCATION, SCOPES)\n",
    "    # Build the service object.\n",
    "    analytics = build('analyticsreporting', 'v4', credentials=credentials)\n",
    "    return analytics\n",
    "\n",
    "def get_report(analytics, dateRanges, metrics, dimensions, dimensionFilter=[]):\n",
    "    return analytics.reports().batchGet(\n",
    "      body={\n",
    "        'reportRequests': [\n",
    "        {\n",
    "          'viewId': VIEW_ID,\n",
    "          'samplingLevel': 'LARGE',\n",
    "          'pageSize': 100000,\n",
    "          'dateRanges': dateRanges,\n",
    "          'metrics': metrics,\n",
    "          'dimensions': dimensions,\n",
    "          'segments': segments,\n",
    "          'dimensionFilterClauses': dimensionFilter\n",
    "        }]\n",
    "      }\n",
    "  ).execute()\n",
    "\n",
    "\n",
    "def print_response(response):\n",
    "    for report in response.get('reports', []):\n",
    "        columnHeader = report.get('columnHeader', {})\n",
    "        dimensionHeaders = columnHeader.get('dimensions', [])\n",
    "        metricHeaders = columnHeader.get('metricHeader', {}).get('metricHeaderEntries', [])\n",
    "\n",
    "        for row in report.get('data', {}).get('rows', []):\n",
    "            dimensions = row.get('dimensions', [])\n",
    "            dateRangeValues = row.get('metrics', [])\n",
    "\n",
    "            for header, dimension in zip(dimensionHeaders, dimensions):\n",
    "                print(header + ': ' + dimension)\n",
    "\n",
    "            for i, values in enumerate(dateRangeValues):\n",
    "                print('Date range: ' + str(i))\n",
    "                for metricHeader, value in zip(metricHeaders, values.get('values')):\n",
    "                    print(metricHeader.get('name') + ': ' + value)\n",
    "\n",
    "def response_to_df(response):\n",
    "    list = []\n",
    "    # get report data\n",
    "    for report in response.get('reports', []):\n",
    "        # set column headers\n",
    "        columnHeader = report.get('columnHeader', {})\n",
    "        dimensionHeaders = columnHeader.get('dimensions', [])\n",
    "        metricHeaders = columnHeader.get('metricHeader', {}).get('metricHeaderEntries', [])\n",
    "        rows = report.get('data', {}).get('rows', [])\n",
    "    \n",
    "        for row in rows:\n",
    "            # create dict for each row\n",
    "            dict = {}\n",
    "            dimensions = row.get('dimensions', [])\n",
    "            dateRangeValues = row.get('metrics', [])\n",
    "\n",
    "            # fill dict with dimension header (key) and dimension value (value)\n",
    "            for header, dimension in zip(dimensionHeaders, dimensions):\n",
    "                dict[header] = dimension\n",
    "\n",
    "            # fill dict with metric header (key) and metric value (value)\n",
    "            for i, values in enumerate(dateRangeValues):\n",
    "                for metric, value in zip(metricHeaders, values.get('values')):\n",
    "                    #set int as int, float a float\n",
    "                    if ',' in value or '.' in value:\n",
    "                        dict[metric.get('name')] = float(value)\n",
    "                    else:\n",
    "                        dict[metric.get('name')] = int(value)\n",
    "\n",
    "            list.append(dict)\n",
    "    \n",
    "    df = pd.DataFrame(list)\n",
    "    return df"
   ]
  },
  {
   "cell_type": "markdown",
   "metadata": {},
   "source": [
    "## Dados agrupados"
   ]
  },
  {
   "cell_type": "markdown",
   "metadata": {},
   "source": [
    "### Getting data"
   ]
  },
  {
   "cell_type": "markdown",
   "metadata": {},
   "source": [
    "#### Google Analytics"
   ]
  },
  {
   "cell_type": "code",
   "execution_count": 5,
   "metadata": {},
   "outputs": [],
   "source": [
    "analytics = initialize_analyticsreporting()"
   ]
  },
  {
   "cell_type": "markdown",
   "metadata": {},
   "source": [
    "##### Loading up-to-date data"
   ]
  },
  {
   "cell_type": "code",
   "execution_count": 6,
   "metadata": {},
   "outputs": [],
   "source": [
    "metrics = [{'expression': 'ga:users'},\n",
    "           {'expression': 'ga:newUsers'},\n",
    "           {'expression': 'ga:sessions'},\n",
    "           {'expression': 'ga:transactions'},\n",
    "           {'expression': 'ga:transactionRevenue'},\n",
    "           {'expression': 'ga:goal10Completions'},\n",
    "           {'expression': 'ga:goal14Completions'}]\n",
    "\n",
    "dimensions = [{'name': 'ga:date'},\n",
    "              {'name': 'ga:experimentCombination'},\n",
    "              {'name': 'ga:deviceCategory'},\n",
    "              {'name': 'ga:sourceMedium'},\n",
    "              {'name': 'ga:dimension1'}, \n",
    "              {'name': 'ga:dimension20'}]\n",
    "\n",
    "segments =  []\n",
    "\n",
    "dimensionFilters = [{'filters':\n",
    "                     [{'dimensionName': 'ga:experimentName',\n",
    "                       'not': False ,\n",
    "                       'operator': 'IN_LIST',\n",
    "                       'expressions': ['Super LP SP (Novembro)'],\n",
    "                       'caseSensitive': False\n",
    "                     }]\n",
    "                  }]"
   ]
  },
  {
   "cell_type": "code",
   "execution_count": 7,
   "metadata": {},
   "outputs": [],
   "source": [
    "def get_ga_single_date(date_to_fetch):\n",
    "    dateRanges = [{'startDate': date_to_fetch, 'endDate': date_to_fetch}]\n",
    "    response = get_report(analytics, dateRanges, metrics, dimensions, dimensionFilters)\n",
    "    return response_to_df(response)\n",
    "    #return enhance_df_ga(response_to_df(response))"
   ]
  },
  {
   "cell_type": "code",
   "execution_count": 8,
   "metadata": {},
   "outputs": [],
   "source": [
    "def get_ga_from_date_range(dt_start, dt_end):\n",
    "    df = pd.DataFrame()\n",
    "    start = datetime.datetime.strptime(dt_start, \"%Y-%m-%d\")\n",
    "    end = datetime.datetime.strptime(dt_end, \"%Y-%m-%d\")\n",
    "    date_generated = [start + datetime.timedelta(days=x) for x in range(0, (end-start).days)]\n",
    "    \n",
    "    for date in date_generated:\n",
    "        print(date)\n",
    "        df = df.append(get_ga_single_date(date.strftime(\"%Y-%m-%d\")), ignore_index=True)\n",
    "\n",
    "    return df"
   ]
  },
  {
   "cell_type": "markdown",
   "metadata": {},
   "source": [
    "### Cookies do teste"
   ]
  },
  {
   "cell_type": "code",
   "execution_count": 11,
   "metadata": {},
   "outputs": [],
   "source": [
    "#dt_inicio = datetime.datetime(2020,10,8,0,0,0)\n",
    "dt_inicio = datetime.datetime(2020,11,16,0,0,0)\n",
    "dt_fim = datetime.datetime(2020,12,2,0,0,0)\n",
    "dt_start_test = str(dt_inicio.date().isoformat())\n",
    "dt_end_test = str(dt_fim.date().isoformat())\n",
    "tstp_inicio = int(dt_inicio.timestamp()*1000)\n",
    "tstp_fim = int(dt_fim.timestamp()*1000)"
   ]
  },
  {
   "cell_type": "code",
   "execution_count": 12,
   "metadata": {},
   "outputs": [
    {
     "output_type": "stream",
     "name": "stdout",
     "text": [
      "2020-11-16 00:00:00\n",
      "2020-11-17 00:00:00\n",
      "2020-11-18 00:00:00\n",
      "2020-11-19 00:00:00\n",
      "2020-11-20 00:00:00\n",
      "2020-11-21 00:00:00\n",
      "2020-11-22 00:00:00\n",
      "2020-11-23 00:00:00\n",
      "2020-11-24 00:00:00\n",
      "2020-11-25 00:00:00\n",
      "2020-11-26 00:00:00\n",
      "2020-11-27 00:00:00\n",
      "2020-11-28 00:00:00\n",
      "2020-11-29 00:00:00\n",
      "2020-11-30 00:00:00\n",
      "2020-12-01 00:00:00\n",
      "2020-11-16 00:00:00\n",
      "2020-11-17 00:00:00\n",
      "2020-11-18 00:00:00\n",
      "2020-11-19 00:00:00\n",
      "2020-11-20 00:00:00\n",
      "2020-11-21 00:00:00\n",
      "2020-11-22 00:00:00\n",
      "2020-11-23 00:00:00\n",
      "2020-11-24 00:00:00\n",
      "2020-11-25 00:00:00\n",
      "2020-11-26 00:00:00\n",
      "2020-11-27 00:00:00\n",
      "2020-11-28 00:00:00\n",
      "2020-11-29 00:00:00\n",
      "2020-11-30 00:00:00\n",
      "2020-12-01 00:00:00\n"
     ]
    }
   ],
   "source": [
    "df_ga_cookies = get_ga_from_date_range(dt_start_test, dt_end_test)\n",
    "\n",
    "#Alterando as dimensões para pegar todas visitas\n",
    "dimensions = [{'name': 'ga:date'},\n",
    "              {'name': 'ga:experimentCombination'},\n",
    "              {'name': 'ga:deviceCategory'},\n",
    "              {'name': 'ga:sourceMedium'}, \n",
    "              {'name': 'ga:dimension20'}]\n",
    "\n",
    "df_ga_non_id = get_ga_from_date_range(dt_start_test, dt_end_test)"
   ]
  },
  {
   "cell_type": "code",
   "execution_count": 13,
   "metadata": {},
   "outputs": [],
   "source": [
    "df_ga_cookies = df_ga_cookies.sort_values(by=['ga:dimension1', 'ga:date'])\n",
    "df_ga = df_ga_cookies.drop_duplicates(subset=['ga:dimension1'], keep='first')"
   ]
  },
  {
   "cell_type": "code",
   "execution_count": 14,
   "metadata": {},
   "outputs": [],
   "source": [
    "df_ga_cookies['ga:experimentCombination'] = df_ga_cookies['ga:experimentCombination'].replace(['JJ0fFsdXRri7xsQ5thfCQA:0'], 'Controle')\n",
    "df_ga_cookies['ga:experimentCombination'] = df_ga_cookies['ga:experimentCombination'].replace(['JJ0fFsdXRri7xsQ5thfCQA:1'], 'Variante')\n",
    "\n",
    "df_ga['ga:experimentCombination'] = df_ga['ga:experimentCombination'].replace(['JJ0fFsdXRri7xsQ5thfCQA:0'], 'Controle')\n",
    "df_ga['ga:experimentCombination'] = df_ga['ga:experimentCombination'].replace(['JJ0fFsdXRri7xsQ5thfCQA:1'], 'Variante')\n",
    "\n",
    "df_ga_non_id['ga:experimentCombination'] = df_ga_non_id['ga:experimentCombination'].replace(['JJ0fFsdXRri7xsQ5thfCQA:0'], 'Controle')\n",
    "df_ga_non_id['ga:experimentCombination'] = df_ga_non_id['ga:experimentCombination'].replace(['JJ0fFsdXRri7xsQ5thfCQA:1'], 'Variante')\n"
   ]
  },
  {
   "cell_type": "code",
   "execution_count": 15,
   "metadata": {},
   "outputs": [
    {
     "output_type": "stream",
     "name": "stdout",
     "text": [
      "(2079, 13)\n(11568, 12)\n(1035, 13)\n"
     ]
    }
   ],
   "source": [
    "print(df_ga_cookies.shape)\n",
    "print(df_ga_non_id.shape)\n",
    "print(df_ga.shape)"
   ]
  },
  {
   "cell_type": "markdown",
   "metadata": {},
   "source": [
    "### Big Query"
   ]
  },
  {
   "cell_type": "code",
   "execution_count": 16,
   "metadata": {},
   "outputs": [],
   "source": [
    "client = bigquery.Client()"
   ]
  },
  {
   "cell_type": "markdown",
   "metadata": {},
   "source": [
    "#### Processos"
   ]
  },
  {
   "cell_type": "code",
   "execution_count": 17,
   "metadata": {},
   "outputs": [],
   "source": [
    "#query_job = client.query(\"SELECT * FROM dw_views.funil_abertura WHERE dataCadastro between \\'\" + dt_start_test + \"\\' AND \\'\" + dt_end_test + \"\\' AND arquivado = FALSE\")\n",
    "query_job = client.query(\"SELECT * FROM `contabilizei-contabilake.vendas.funil_abertura` WHERE dataCadastro >= \\'\" + dt_start_test +  \"\\' AND arquivado = FALSE\")"
   ]
  },
  {
   "cell_type": "code",
   "execution_count": 18,
   "metadata": {},
   "outputs": [],
   "source": [
    "df_processos = query_job.result().to_dataframe()"
   ]
  },
  {
   "cell_type": "code",
   "execution_count": 18,
   "metadata": {},
   "outputs": [
    {
     "output_type": "execute_result",
     "data": {
      "text/plain": [
       "(2361, 64)"
      ]
     },
     "metadata": {},
     "execution_count": 18
    }
   ],
   "source": [
    "df_processos.shape"
   ]
  },
  {
   "cell_type": "code",
   "execution_count": 19,
   "metadata": {},
   "outputs": [],
   "source": [
    "df_processos['uid'] = df_processos.apply(lambda x: email_to_uid(x['email']), axis=1)"
   ]
  },
  {
   "cell_type": "code",
   "execution_count": 20,
   "metadata": {},
   "outputs": [
    {
     "output_type": "stream",
     "name": "stdout",
     "text": [
      "(1111, 79)\n"
     ]
    }
   ],
   "source": [
    "df_merged = pd.merge(df_ga, df_processos, how='left', left_on='ga:dimension1', right_on='uid')\n",
    "df_merged['Canal'] = 'Online'\n",
    "df_merged.loc[(df_merged['faturaAdmin'] == True), 'Canal'] = 'Inside Sales'\n",
    "print(df_merged.shape)"
   ]
  },
  {
   "cell_type": "code",
   "execution_count": 21,
   "metadata": {},
   "outputs": [],
   "source": [
    "df_merged.to_csv('processos-sp-' + str(datetime.datetime.now().timestamp()) + '.csv')"
   ]
  },
  {
   "cell_type": "code",
   "execution_count": 22,
   "metadata": {},
   "outputs": [],
   "source": [
    "def df_summary(df_raw, df_source):\n",
    "    # raw: non-id df\n",
    "    # source: merged ga x internal df\n",
    "    df1 = df_raw.groupby(by=[\"ga:experimentCombination\"]).sum()[['ga:sessions', 'ga:users']].reset_index()\n",
    "    df2 = df_source.groupby(by=[\"ga:experimentCombination\"]).count()['ga:dimension1'].reset_index().rename(columns={\"ga:dimension1\": \"ids\"})\n",
    "    df3 = df_source[df_source['uid'].isna() == False].groupby(by=[\"ga:experimentCombination\"]).count()['ga:dimension1'].reset_index().rename(columns={\"ga:dimension1\": \"ids_internos\"})\n",
    "    df4 = df_source[df_source['dataEmissaoFatura'].isna() == False].groupby(by=[\"ga:experimentCombination\"]).count()['ga:dimension1'].reset_index().rename(columns={\"ga:dimension1\": \"faturas\"})\n",
    "    df5 = df_source[df_source['dataEmissaoFatura'].isna() == False].groupby(by=[\"ga:experimentCombination\"]).sum()['valorAbertura'].reset_index().rename(columns={\"valorAbertura\": \"total_faturado\"})\n",
    "    df6 = df_source[df_source['statusPagamento'] == 'CONFIRMADO'].groupby(by=[\"ga:experimentCombination\"]).count()['ga:dimension1'].reset_index().rename(columns={\"ga:dimension1\": \"vendas\"})\n",
    "    df7 = df_source[df_source['statusPagamento'] == 'CONFIRMADO'].groupby(by=[\"ga:experimentCombination\"]).sum()['valorAbertura'].reset_index().rename(columns={\"valorAbertura\": \"total_pago\"})\n",
    "    df8 = df1.merge(df2, on='ga:experimentCombination').merge(df3, on='ga:experimentCombination').merge(df4, on='ga:experimentCombination').merge(df5, on='ga:experimentCombination').merge(df6, on='ga:experimentCombination').merge(df7, on='ga:experimentCombination')\n",
    "    df8['sessions_by_user'] = df8['ga:sessions'] / df8['ga:users']\n",
    "    df8['conv_ids'] = df8['ids'] / df8['ga:sessions']\n",
    "    df8['conv_faturas'] = df8['faturas'] / df8['ga:sessions']\n",
    "    df8['conv_vendas'] = df8['vendas'] / df8['ga:sessions']\n",
    "    df8['conv_pagamento'] = df8['vendas'] / df8['faturas']\n",
    "    df8['valor_medio_faturado'] = df8['total_faturado'] / df8['faturas']\n",
    "    df8['valor_medio_pago'] = df8['total_pago'] / df8['vendas']\n",
    "    df8['faturado_por_sessao'] = df8['total_faturado'] / df8['ga:sessions']\n",
    "    df8['pago_por_sessao'] = df8['total_pago'] / df8['ga:sessions']\n",
    "    return df8"
   ]
  },
  {
   "cell_type": "code",
   "execution_count": 23,
   "metadata": {},
   "outputs": [],
   "source": [
    "df_summary = df_summary(df_ga_non_id, df_merged)"
   ]
  },
  {
   "cell_type": "code",
   "execution_count": 24,
   "metadata": {},
   "outputs": [
    {
     "output_type": "execute_result",
     "data": {
      "text/plain": [
       "   ga:experimentCombination  ga:sessions  ga:users  ids  ids_internos  \\\n",
       "0  kRWNuQiIT0OSim-S9FXiHQ:0         6398      5714  598           266   \n",
       "1  kRWNuQiIT0OSim-S9FXiHQ:1         6542      5854  513           168   \n",
       "\n",
       "   faturas  total_faturado  vendas  total_pago  sessions_by_user  conv_ids  \\\n",
       "0      118       15622.000     102   12698.000             1.120     0.093   \n",
       "1      102       13298.000      91   12099.000             1.118     0.078   \n",
       "\n",
       "   conv_faturas  conv_vendas  conv_pagamento  valor_medio_faturado  \\\n",
       "0         0.018        0.016           0.864               132.390   \n",
       "1         0.016        0.014           0.892               130.373   \n",
       "\n",
       "   valor_medio_pago  faturado_por_sessao  pago_por_sessao  \n",
       "0           124.490                2.442            1.985  \n",
       "1           132.956                2.033            1.849  "
      ],
      "text/html": "<div>\n<style scoped>\n    .dataframe tbody tr th:only-of-type {\n        vertical-align: middle;\n    }\n\n    .dataframe tbody tr th {\n        vertical-align: top;\n    }\n\n    .dataframe thead th {\n        text-align: right;\n    }\n</style>\n<table border=\"1\" class=\"dataframe\">\n  <thead>\n    <tr style=\"text-align: right;\">\n      <th></th>\n      <th>ga:experimentCombination</th>\n      <th>ga:sessions</th>\n      <th>ga:users</th>\n      <th>ids</th>\n      <th>ids_internos</th>\n      <th>faturas</th>\n      <th>total_faturado</th>\n      <th>vendas</th>\n      <th>total_pago</th>\n      <th>sessions_by_user</th>\n      <th>conv_ids</th>\n      <th>conv_faturas</th>\n      <th>conv_vendas</th>\n      <th>conv_pagamento</th>\n      <th>valor_medio_faturado</th>\n      <th>valor_medio_pago</th>\n      <th>faturado_por_sessao</th>\n      <th>pago_por_sessao</th>\n    </tr>\n  </thead>\n  <tbody>\n    <tr>\n      <th>0</th>\n      <td>kRWNuQiIT0OSim-S9FXiHQ:0</td>\n      <td>6398</td>\n      <td>5714</td>\n      <td>598</td>\n      <td>266</td>\n      <td>118</td>\n      <td>15622.000</td>\n      <td>102</td>\n      <td>12698.000</td>\n      <td>1.120</td>\n      <td>0.093</td>\n      <td>0.018</td>\n      <td>0.016</td>\n      <td>0.864</td>\n      <td>132.390</td>\n      <td>124.490</td>\n      <td>2.442</td>\n      <td>1.985</td>\n    </tr>\n    <tr>\n      <th>1</th>\n      <td>kRWNuQiIT0OSim-S9FXiHQ:1</td>\n      <td>6542</td>\n      <td>5854</td>\n      <td>513</td>\n      <td>168</td>\n      <td>102</td>\n      <td>13298.000</td>\n      <td>91</td>\n      <td>12099.000</td>\n      <td>1.118</td>\n      <td>0.078</td>\n      <td>0.016</td>\n      <td>0.014</td>\n      <td>0.892</td>\n      <td>130.373</td>\n      <td>132.956</td>\n      <td>2.033</td>\n      <td>1.849</td>\n    </tr>\n  </tbody>\n</table>\n</div>"
     },
     "metadata": {},
     "execution_count": 24
    }
   ],
   "source": [
    "df_summary"
   ]
  },
  {
   "cell_type": "code",
   "execution_count": 25,
   "metadata": {},
   "outputs": [
    {
     "output_type": "execute_result",
     "data": {
      "text/plain": [
       "   ga:experimentCombination         Canal  ga:dimension1\n",
       "0  kRWNuQiIT0OSim-S9FXiHQ:0  Inside Sales             64\n",
       "1  kRWNuQiIT0OSim-S9FXiHQ:0        Online             54\n",
       "2  kRWNuQiIT0OSim-S9FXiHQ:1  Inside Sales             60\n",
       "3  kRWNuQiIT0OSim-S9FXiHQ:1        Online             42"
      ],
      "text/html": "<div>\n<style scoped>\n    .dataframe tbody tr th:only-of-type {\n        vertical-align: middle;\n    }\n\n    .dataframe tbody tr th {\n        vertical-align: top;\n    }\n\n    .dataframe thead th {\n        text-align: right;\n    }\n</style>\n<table border=\"1\" class=\"dataframe\">\n  <thead>\n    <tr style=\"text-align: right;\">\n      <th></th>\n      <th>ga:experimentCombination</th>\n      <th>Canal</th>\n      <th>ga:dimension1</th>\n    </tr>\n  </thead>\n  <tbody>\n    <tr>\n      <th>0</th>\n      <td>kRWNuQiIT0OSim-S9FXiHQ:0</td>\n      <td>Inside Sales</td>\n      <td>64</td>\n    </tr>\n    <tr>\n      <th>1</th>\n      <td>kRWNuQiIT0OSim-S9FXiHQ:0</td>\n      <td>Online</td>\n      <td>54</td>\n    </tr>\n    <tr>\n      <th>2</th>\n      <td>kRWNuQiIT0OSim-S9FXiHQ:1</td>\n      <td>Inside Sales</td>\n      <td>60</td>\n    </tr>\n    <tr>\n      <th>3</th>\n      <td>kRWNuQiIT0OSim-S9FXiHQ:1</td>\n      <td>Online</td>\n      <td>42</td>\n    </tr>\n  </tbody>\n</table>\n</div>"
     },
     "metadata": {},
     "execution_count": 25
    }
   ],
   "source": [
    "df_merged[df_merged['dataEmissaoFatura'].isna() == False].groupby(by=[\"ga:experimentCombination\", \"Canal\"]).count()['ga:dimension1'].reset_index()"
   ]
  },
  {
   "cell_type": "code",
   "execution_count": 27,
   "metadata": {},
   "outputs": [
    {
     "output_type": "execute_result",
     "data": {
      "text/plain": [
       "   ga:experimentCombination statusPagamento  ga:dimension1\n",
       "0  kRWNuQiIT0OSim-S9FXiHQ:0      CONFIRMADO            102\n",
       "1  kRWNuQiIT0OSim-S9FXiHQ:0        PENDENTE            164\n",
       "2  kRWNuQiIT0OSim-S9FXiHQ:1      CONFIRMADO             91\n",
       "3  kRWNuQiIT0OSim-S9FXiHQ:1        PENDENTE             77"
      ],
      "text/html": "<div>\n<style scoped>\n    .dataframe tbody tr th:only-of-type {\n        vertical-align: middle;\n    }\n\n    .dataframe tbody tr th {\n        vertical-align: top;\n    }\n\n    .dataframe thead th {\n        text-align: right;\n    }\n</style>\n<table border=\"1\" class=\"dataframe\">\n  <thead>\n    <tr style=\"text-align: right;\">\n      <th></th>\n      <th>ga:experimentCombination</th>\n      <th>statusPagamento</th>\n      <th>ga:dimension1</th>\n    </tr>\n  </thead>\n  <tbody>\n    <tr>\n      <th>0</th>\n      <td>kRWNuQiIT0OSim-S9FXiHQ:0</td>\n      <td>CONFIRMADO</td>\n      <td>102</td>\n    </tr>\n    <tr>\n      <th>1</th>\n      <td>kRWNuQiIT0OSim-S9FXiHQ:0</td>\n      <td>PENDENTE</td>\n      <td>164</td>\n    </tr>\n    <tr>\n      <th>2</th>\n      <td>kRWNuQiIT0OSim-S9FXiHQ:1</td>\n      <td>CONFIRMADO</td>\n      <td>91</td>\n    </tr>\n    <tr>\n      <th>3</th>\n      <td>kRWNuQiIT0OSim-S9FXiHQ:1</td>\n      <td>PENDENTE</td>\n      <td>77</td>\n    </tr>\n  </tbody>\n</table>\n</div>"
     },
     "metadata": {},
     "execution_count": 27
    }
   ],
   "source": [
    "#df_merged[df_merged['statusPagamento'] == 'CONFIRMADO'].groupby(by=[\"ga:experimentCombination\", \"Canal\"]).count()['ga:dimension1'].reset_index()\n",
    "df_merged.groupby(by=[\"ga:experimentCombination\", \"statusPagamento\"]).count()['ga:dimension1'].reset_index()"
   ]
  },
  {
   "cell_type": "code",
   "execution_count": 28,
   "metadata": {},
   "outputs": [
    {
     "output_type": "execute_result",
     "data": {
      "text/plain": [
       "   ga:experimentCombination         Canal  formaPagamento  ga:dimension1\n",
       "0  kRWNuQiIT0OSim-S9FXiHQ:0  Inside Sales          BOLETO             64\n",
       "1  kRWNuQiIT0OSim-S9FXiHQ:0        Online          BOLETO             18\n",
       "2  kRWNuQiIT0OSim-S9FXiHQ:0        Online  CARTAO_CREDITO             36\n",
       "3  kRWNuQiIT0OSim-S9FXiHQ:1  Inside Sales          BOLETO             60\n",
       "4  kRWNuQiIT0OSim-S9FXiHQ:1        Online          BOLETO             13\n",
       "5  kRWNuQiIT0OSim-S9FXiHQ:1        Online  CARTAO_CREDITO             29"
      ],
      "text/html": "<div>\n<style scoped>\n    .dataframe tbody tr th:only-of-type {\n        vertical-align: middle;\n    }\n\n    .dataframe tbody tr th {\n        vertical-align: top;\n    }\n\n    .dataframe thead th {\n        text-align: right;\n    }\n</style>\n<table border=\"1\" class=\"dataframe\">\n  <thead>\n    <tr style=\"text-align: right;\">\n      <th></th>\n      <th>ga:experimentCombination</th>\n      <th>Canal</th>\n      <th>formaPagamento</th>\n      <th>ga:dimension1</th>\n    </tr>\n  </thead>\n  <tbody>\n    <tr>\n      <th>0</th>\n      <td>kRWNuQiIT0OSim-S9FXiHQ:0</td>\n      <td>Inside Sales</td>\n      <td>BOLETO</td>\n      <td>64</td>\n    </tr>\n    <tr>\n      <th>1</th>\n      <td>kRWNuQiIT0OSim-S9FXiHQ:0</td>\n      <td>Online</td>\n      <td>BOLETO</td>\n      <td>18</td>\n    </tr>\n    <tr>\n      <th>2</th>\n      <td>kRWNuQiIT0OSim-S9FXiHQ:0</td>\n      <td>Online</td>\n      <td>CARTAO_CREDITO</td>\n      <td>36</td>\n    </tr>\n    <tr>\n      <th>3</th>\n      <td>kRWNuQiIT0OSim-S9FXiHQ:1</td>\n      <td>Inside Sales</td>\n      <td>BOLETO</td>\n      <td>60</td>\n    </tr>\n    <tr>\n      <th>4</th>\n      <td>kRWNuQiIT0OSim-S9FXiHQ:1</td>\n      <td>Online</td>\n      <td>BOLETO</td>\n      <td>13</td>\n    </tr>\n    <tr>\n      <th>5</th>\n      <td>kRWNuQiIT0OSim-S9FXiHQ:1</td>\n      <td>Online</td>\n      <td>CARTAO_CREDITO</td>\n      <td>29</td>\n    </tr>\n  </tbody>\n</table>\n</div>"
     },
     "metadata": {},
     "execution_count": 28
    }
   ],
   "source": [
    "df_merged[df_merged['dataEmissaoFatura'].isna() == False].groupby(by=[\"ga:experimentCombination\", \"Canal\", \"formaPagamento\"]).count()['ga:dimension1'].reset_index()"
   ]
  },
  {
   "cell_type": "code",
   "execution_count": 29,
   "metadata": {},
   "outputs": [
    {
     "output_type": "execute_result",
     "data": {
      "text/plain": [
       "   ga:experimentCombination         Canal  formaPagamento  ga:dimension1\n",
       "0  kRWNuQiIT0OSim-S9FXiHQ:0  Inside Sales          BOLETO             54\n",
       "1  kRWNuQiIT0OSim-S9FXiHQ:0        Online          BOLETO              7\n",
       "2  kRWNuQiIT0OSim-S9FXiHQ:0        Online  CARTAO_CREDITO             41\n",
       "3  kRWNuQiIT0OSim-S9FXiHQ:1  Inside Sales          BOLETO             51\n",
       "4  kRWNuQiIT0OSim-S9FXiHQ:1        Online          BOLETO              9\n",
       "5  kRWNuQiIT0OSim-S9FXiHQ:1        Online  CARTAO_CREDITO             31"
      ],
      "text/html": "<div>\n<style scoped>\n    .dataframe tbody tr th:only-of-type {\n        vertical-align: middle;\n    }\n\n    .dataframe tbody tr th {\n        vertical-align: top;\n    }\n\n    .dataframe thead th {\n        text-align: right;\n    }\n</style>\n<table border=\"1\" class=\"dataframe\">\n  <thead>\n    <tr style=\"text-align: right;\">\n      <th></th>\n      <th>ga:experimentCombination</th>\n      <th>Canal</th>\n      <th>formaPagamento</th>\n      <th>ga:dimension1</th>\n    </tr>\n  </thead>\n  <tbody>\n    <tr>\n      <th>0</th>\n      <td>kRWNuQiIT0OSim-S9FXiHQ:0</td>\n      <td>Inside Sales</td>\n      <td>BOLETO</td>\n      <td>54</td>\n    </tr>\n    <tr>\n      <th>1</th>\n      <td>kRWNuQiIT0OSim-S9FXiHQ:0</td>\n      <td>Online</td>\n      <td>BOLETO</td>\n      <td>7</td>\n    </tr>\n    <tr>\n      <th>2</th>\n      <td>kRWNuQiIT0OSim-S9FXiHQ:0</td>\n      <td>Online</td>\n      <td>CARTAO_CREDITO</td>\n      <td>41</td>\n    </tr>\n    <tr>\n      <th>3</th>\n      <td>kRWNuQiIT0OSim-S9FXiHQ:1</td>\n      <td>Inside Sales</td>\n      <td>BOLETO</td>\n      <td>51</td>\n    </tr>\n    <tr>\n      <th>4</th>\n      <td>kRWNuQiIT0OSim-S9FXiHQ:1</td>\n      <td>Online</td>\n      <td>BOLETO</td>\n      <td>9</td>\n    </tr>\n    <tr>\n      <th>5</th>\n      <td>kRWNuQiIT0OSim-S9FXiHQ:1</td>\n      <td>Online</td>\n      <td>CARTAO_CREDITO</td>\n      <td>31</td>\n    </tr>\n  </tbody>\n</table>\n</div>"
     },
     "metadata": {},
     "execution_count": 29
    }
   ],
   "source": [
    "df_merged[df_merged['statusPagamento'] == 'CONFIRMADO'].groupby(by=[\"ga:experimentCombination\", \"Canal\", \"formaPagamento\"]).count()['ga:dimension1'].reset_index()"
   ]
  },
  {
   "cell_type": "code",
   "execution_count": 30,
   "metadata": {},
   "outputs": [
    {
     "output_type": "execute_result",
     "data": {
      "text/plain": [
       "    ga:experimentCombination         Canal Plano_aquisicao  ga:dimension1\n",
       "0   kRWNuQiIT0OSim-S9FXiHQ:0  Inside Sales        AVANCADO             23\n",
       "1   kRWNuQiIT0OSim-S9FXiHQ:0  Inside Sales          BASICO             38\n",
       "2   kRWNuQiIT0OSim-S9FXiHQ:0  Inside Sales         PREMIUM              3\n",
       "3   kRWNuQiIT0OSim-S9FXiHQ:0        Online        AVANCADO              7\n",
       "4   kRWNuQiIT0OSim-S9FXiHQ:0        Online          BASICO             44\n",
       "5   kRWNuQiIT0OSim-S9FXiHQ:0        Online         PREMIUM              3\n",
       "6   kRWNuQiIT0OSim-S9FXiHQ:1  Inside Sales        AVANCADO             28\n",
       "7   kRWNuQiIT0OSim-S9FXiHQ:1  Inside Sales          BASICO             29\n",
       "8   kRWNuQiIT0OSim-S9FXiHQ:1  Inside Sales         PREMIUM              3\n",
       "9   kRWNuQiIT0OSim-S9FXiHQ:1        Online        AVANCADO             15\n",
       "10  kRWNuQiIT0OSim-S9FXiHQ:1        Online          BASICO             26\n",
       "11  kRWNuQiIT0OSim-S9FXiHQ:1        Online         PREMIUM              1"
      ],
      "text/html": "<div>\n<style scoped>\n    .dataframe tbody tr th:only-of-type {\n        vertical-align: middle;\n    }\n\n    .dataframe tbody tr th {\n        vertical-align: top;\n    }\n\n    .dataframe thead th {\n        text-align: right;\n    }\n</style>\n<table border=\"1\" class=\"dataframe\">\n  <thead>\n    <tr style=\"text-align: right;\">\n      <th></th>\n      <th>ga:experimentCombination</th>\n      <th>Canal</th>\n      <th>Plano_aquisicao</th>\n      <th>ga:dimension1</th>\n    </tr>\n  </thead>\n  <tbody>\n    <tr>\n      <th>0</th>\n      <td>kRWNuQiIT0OSim-S9FXiHQ:0</td>\n      <td>Inside Sales</td>\n      <td>AVANCADO</td>\n      <td>23</td>\n    </tr>\n    <tr>\n      <th>1</th>\n      <td>kRWNuQiIT0OSim-S9FXiHQ:0</td>\n      <td>Inside Sales</td>\n      <td>BASICO</td>\n      <td>38</td>\n    </tr>\n    <tr>\n      <th>2</th>\n      <td>kRWNuQiIT0OSim-S9FXiHQ:0</td>\n      <td>Inside Sales</td>\n      <td>PREMIUM</td>\n      <td>3</td>\n    </tr>\n    <tr>\n      <th>3</th>\n      <td>kRWNuQiIT0OSim-S9FXiHQ:0</td>\n      <td>Online</td>\n      <td>AVANCADO</td>\n      <td>7</td>\n    </tr>\n    <tr>\n      <th>4</th>\n      <td>kRWNuQiIT0OSim-S9FXiHQ:0</td>\n      <td>Online</td>\n      <td>BASICO</td>\n      <td>44</td>\n    </tr>\n    <tr>\n      <th>5</th>\n      <td>kRWNuQiIT0OSim-S9FXiHQ:0</td>\n      <td>Online</td>\n      <td>PREMIUM</td>\n      <td>3</td>\n    </tr>\n    <tr>\n      <th>6</th>\n      <td>kRWNuQiIT0OSim-S9FXiHQ:1</td>\n      <td>Inside Sales</td>\n      <td>AVANCADO</td>\n      <td>28</td>\n    </tr>\n    <tr>\n      <th>7</th>\n      <td>kRWNuQiIT0OSim-S9FXiHQ:1</td>\n      <td>Inside Sales</td>\n      <td>BASICO</td>\n      <td>29</td>\n    </tr>\n    <tr>\n      <th>8</th>\n      <td>kRWNuQiIT0OSim-S9FXiHQ:1</td>\n      <td>Inside Sales</td>\n      <td>PREMIUM</td>\n      <td>3</td>\n    </tr>\n    <tr>\n      <th>9</th>\n      <td>kRWNuQiIT0OSim-S9FXiHQ:1</td>\n      <td>Online</td>\n      <td>AVANCADO</td>\n      <td>15</td>\n    </tr>\n    <tr>\n      <th>10</th>\n      <td>kRWNuQiIT0OSim-S9FXiHQ:1</td>\n      <td>Online</td>\n      <td>BASICO</td>\n      <td>26</td>\n    </tr>\n    <tr>\n      <th>11</th>\n      <td>kRWNuQiIT0OSim-S9FXiHQ:1</td>\n      <td>Online</td>\n      <td>PREMIUM</td>\n      <td>1</td>\n    </tr>\n  </tbody>\n</table>\n</div>"
     },
     "metadata": {},
     "execution_count": 30
    }
   ],
   "source": [
    "df_merged[df_merged['dataEmissaoFatura'].isna() == False].groupby(by=[\"ga:experimentCombination\", \"Canal\", \"Plano_aquisicao\"]).count()['ga:dimension1'].reset_index()"
   ]
  },
  {
   "cell_type": "code",
   "execution_count": 38,
   "metadata": {},
   "outputs": [
    {
     "output_type": "execute_result",
     "data": {
      "text/plain": [
       "    ga:experimentCombination         Canal Plano_aquisicao  ga:dimension1\n",
       "0   kRWNuQiIT0OSim-S9FXiHQ:0  Inside Sales        AVANCADO             16\n",
       "1   kRWNuQiIT0OSim-S9FXiHQ:0  Inside Sales          BASICO             29\n",
       "2   kRWNuQiIT0OSim-S9FXiHQ:0  Inside Sales         PREMIUM              2\n",
       "3   kRWNuQiIT0OSim-S9FXiHQ:0        Online        AVANCADO              5\n",
       "4   kRWNuQiIT0OSim-S9FXiHQ:0        Online          BASICO             36\n",
       "5   kRWNuQiIT0OSim-S9FXiHQ:0        Online         PREMIUM              1\n",
       "6   kRWNuQiIT0OSim-S9FXiHQ:1  Inside Sales        AVANCADO             19\n",
       "7   kRWNuQiIT0OSim-S9FXiHQ:1  Inside Sales          BASICO             20\n",
       "8   kRWNuQiIT0OSim-S9FXiHQ:1  Inside Sales         PREMIUM              2\n",
       "9   kRWNuQiIT0OSim-S9FXiHQ:1        Online        AVANCADO             14\n",
       "10  kRWNuQiIT0OSim-S9FXiHQ:1        Online          BASICO             19\n",
       "11  kRWNuQiIT0OSim-S9FXiHQ:1        Online         PREMIUM              1"
      ],
      "text/html": "<div>\n<style scoped>\n    .dataframe tbody tr th:only-of-type {\n        vertical-align: middle;\n    }\n\n    .dataframe tbody tr th {\n        vertical-align: top;\n    }\n\n    .dataframe thead th {\n        text-align: right;\n    }\n</style>\n<table border=\"1\" class=\"dataframe\">\n  <thead>\n    <tr style=\"text-align: right;\">\n      <th></th>\n      <th>ga:experimentCombination</th>\n      <th>Canal</th>\n      <th>Plano_aquisicao</th>\n      <th>ga:dimension1</th>\n    </tr>\n  </thead>\n  <tbody>\n    <tr>\n      <th>0</th>\n      <td>kRWNuQiIT0OSim-S9FXiHQ:0</td>\n      <td>Inside Sales</td>\n      <td>AVANCADO</td>\n      <td>16</td>\n    </tr>\n    <tr>\n      <th>1</th>\n      <td>kRWNuQiIT0OSim-S9FXiHQ:0</td>\n      <td>Inside Sales</td>\n      <td>BASICO</td>\n      <td>29</td>\n    </tr>\n    <tr>\n      <th>2</th>\n      <td>kRWNuQiIT0OSim-S9FXiHQ:0</td>\n      <td>Inside Sales</td>\n      <td>PREMIUM</td>\n      <td>2</td>\n    </tr>\n    <tr>\n      <th>3</th>\n      <td>kRWNuQiIT0OSim-S9FXiHQ:0</td>\n      <td>Online</td>\n      <td>AVANCADO</td>\n      <td>5</td>\n    </tr>\n    <tr>\n      <th>4</th>\n      <td>kRWNuQiIT0OSim-S9FXiHQ:0</td>\n      <td>Online</td>\n      <td>BASICO</td>\n      <td>36</td>\n    </tr>\n    <tr>\n      <th>5</th>\n      <td>kRWNuQiIT0OSim-S9FXiHQ:0</td>\n      <td>Online</td>\n      <td>PREMIUM</td>\n      <td>1</td>\n    </tr>\n    <tr>\n      <th>6</th>\n      <td>kRWNuQiIT0OSim-S9FXiHQ:1</td>\n      <td>Inside Sales</td>\n      <td>AVANCADO</td>\n      <td>19</td>\n    </tr>\n    <tr>\n      <th>7</th>\n      <td>kRWNuQiIT0OSim-S9FXiHQ:1</td>\n      <td>Inside Sales</td>\n      <td>BASICO</td>\n      <td>20</td>\n    </tr>\n    <tr>\n      <th>8</th>\n      <td>kRWNuQiIT0OSim-S9FXiHQ:1</td>\n      <td>Inside Sales</td>\n      <td>PREMIUM</td>\n      <td>2</td>\n    </tr>\n    <tr>\n      <th>9</th>\n      <td>kRWNuQiIT0OSim-S9FXiHQ:1</td>\n      <td>Online</td>\n      <td>AVANCADO</td>\n      <td>14</td>\n    </tr>\n    <tr>\n      <th>10</th>\n      <td>kRWNuQiIT0OSim-S9FXiHQ:1</td>\n      <td>Online</td>\n      <td>BASICO</td>\n      <td>19</td>\n    </tr>\n    <tr>\n      <th>11</th>\n      <td>kRWNuQiIT0OSim-S9FXiHQ:1</td>\n      <td>Online</td>\n      <td>PREMIUM</td>\n      <td>1</td>\n    </tr>\n  </tbody>\n</table>\n</div>"
     },
     "metadata": {},
     "execution_count": 38
    }
   ],
   "source": [
    "df_merged[df_merged['statusPagamento'] == 'CONFIRMADO'].groupby(by=[\"ga:experimentCombination\", \"Canal\", \"Plano_aquisicao\"]).count()['ga:dimension1'].reset_index()"
   ]
  },
  {
   "cell_type": "code",
   "execution_count": 39,
   "metadata": {},
   "outputs": [
    {
     "output_type": "execute_result",
     "data": {
      "text/plain": [
       "   ga:experimentCombination Plano_aquisicao  ga:dimension1\n",
       "0  kRWNuQiIT0OSim-S9FXiHQ:0        AVANCADO             21\n",
       "1  kRWNuQiIT0OSim-S9FXiHQ:0          BASICO             65\n",
       "2  kRWNuQiIT0OSim-S9FXiHQ:0         PREMIUM              3\n",
       "3  kRWNuQiIT0OSim-S9FXiHQ:1        AVANCADO             33\n",
       "4  kRWNuQiIT0OSim-S9FXiHQ:1          BASICO             39\n",
       "5  kRWNuQiIT0OSim-S9FXiHQ:1         PREMIUM              3"
      ],
      "text/html": "<div>\n<style scoped>\n    .dataframe tbody tr th:only-of-type {\n        vertical-align: middle;\n    }\n\n    .dataframe tbody tr th {\n        vertical-align: top;\n    }\n\n    .dataframe thead th {\n        text-align: right;\n    }\n</style>\n<table border=\"1\" class=\"dataframe\">\n  <thead>\n    <tr style=\"text-align: right;\">\n      <th></th>\n      <th>ga:experimentCombination</th>\n      <th>Plano_aquisicao</th>\n      <th>ga:dimension1</th>\n    </tr>\n  </thead>\n  <tbody>\n    <tr>\n      <th>0</th>\n      <td>kRWNuQiIT0OSim-S9FXiHQ:0</td>\n      <td>AVANCADO</td>\n      <td>21</td>\n    </tr>\n    <tr>\n      <th>1</th>\n      <td>kRWNuQiIT0OSim-S9FXiHQ:0</td>\n      <td>BASICO</td>\n      <td>65</td>\n    </tr>\n    <tr>\n      <th>2</th>\n      <td>kRWNuQiIT0OSim-S9FXiHQ:0</td>\n      <td>PREMIUM</td>\n      <td>3</td>\n    </tr>\n    <tr>\n      <th>3</th>\n      <td>kRWNuQiIT0OSim-S9FXiHQ:1</td>\n      <td>AVANCADO</td>\n      <td>33</td>\n    </tr>\n    <tr>\n      <th>4</th>\n      <td>kRWNuQiIT0OSim-S9FXiHQ:1</td>\n      <td>BASICO</td>\n      <td>39</td>\n    </tr>\n    <tr>\n      <th>5</th>\n      <td>kRWNuQiIT0OSim-S9FXiHQ:1</td>\n      <td>PREMIUM</td>\n      <td>3</td>\n    </tr>\n  </tbody>\n</table>\n</div>"
     },
     "metadata": {},
     "execution_count": 39
    }
   ],
   "source": [
    "df_merged[df_merged['statusPagamento'] == 'CONFIRMADO'].groupby(by=[\"ga:experimentCombination\", \"Plano_aquisicao\"]).count()['ga:dimension1'].reset_index()"
   ]
  },
  {
   "cell_type": "code",
   "execution_count": 32,
   "metadata": {},
   "outputs": [
    {
     "output_type": "execute_result",
     "data": {
      "text/plain": [
       "<google.cloud.bigquery.job.LoadJob at 0x7fccf672e7b8>"
      ]
     },
     "metadata": {},
     "execution_count": 32
    }
   ],
   "source": [
    "credential_path = '/home/yuguro/Downloads/contabilizei-dataflow-c49121aa9533.json'\n",
    "os.environ[\"GOOGLE_APPLICATION_CREDENTIALS\"] = credential_path\n",
    "client = bigquery.Client()\n",
    "\n",
    "dataset_id = 'hiram'\n",
    "table_id_flow = 'temp_analise_teste_ab_thiago'\n",
    "    \n",
    "dataset_ref = client.dataset(dataset_id)\n",
    "\n",
    "client.load_table_from_dataframe(df_merged,dataset_ref.table(table_id_flow))"
   ]
  },
  {
   "cell_type": "markdown",
   "metadata": {},
   "source": [
    "## Hubspot"
   ]
  },
  {
   "cell_type": "code",
   "execution_count": 40,
   "metadata": {},
   "outputs": [
    {
     "output_type": "stream",
     "name": "stdout",
     "text": [
      "795\n"
     ]
    }
   ],
   "source": [
    "uids = df_merged[df_merged['dataEmissaoFatura'].isna() == True]['ga:dimension1'].unique()\n",
    "print(len(uids))"
   ]
  },
  {
   "cell_type": "code",
   "execution_count": 41,
   "metadata": {},
   "outputs": [],
   "source": [
    "def build_hs_contact_payload(dt_inicio, uid, after, properties):\n",
    "    hs_payload = {\n",
    "      \"filterGroups\": [\n",
    "        {\n",
    "          \"filters\": [\n",
    "            {\n",
    "              \"value\": dt_inicio,\n",
    "              \"propertyName\": \"createdate\",\n",
    "              \"operator\": \"GTE\"\n",
    "            },\n",
    "            {\n",
    "              \"value\": uid,\n",
    "              \"propertyName\": \"userid\",\n",
    "              \"operator\": \"EQ\"\n",
    "            }\n",
    "          ]\n",
    "        }\n",
    "      ],\n",
    "      \"sorts\": [\n",
    "        \"id\"\n",
    "      ],\n",
    "      \"properties\": properties,\n",
    "      \"limit\": 10,\n",
    "      \"after\": after\n",
    "    }\n",
    "    return hs_payload"
   ]
  },
  {
   "cell_type": "code",
   "execution_count": 42,
   "metadata": {},
   "outputs": [],
   "source": [
    "def build_hs_deal_payload(dt_inicio, contactId, after, properties):\n",
    "    hs_payload = {\n",
    "      \"filterGroups\": [\n",
    "        {\n",
    "          \"filters\": [\n",
    "            {\n",
    "              \"value\": dt_inicio,\n",
    "              \"propertyName\": \"createdate\",\n",
    "              \"operator\": \"GTE\"\n",
    "            },\n",
    "            {\n",
    "              \"value\": contactId,\n",
    "              \"propertyName\": \"associations.contact\",\n",
    "              \"operator\": \"EQ\"\n",
    "            }\n",
    "          ]\n",
    "        }\n",
    "      ],\n",
    "      \"sorts\": [\n",
    "        \"id\"\n",
    "      ],\n",
    "      \"properties\": properties,\n",
    "      \"limit\": 10,\n",
    "      \"after\": after\n",
    "    }\n",
    "    return hs_payload"
   ]
  },
  {
   "cell_type": "code",
   "execution_count": 43,
   "metadata": {},
   "outputs": [],
   "source": [
    "def get_contacts_from_hs(dt_inicio, uid, after, properties):\n",
    "    hs_payload = build_hs_contact_payload(dt_inicio, uid, after, properties)\n",
    "    j_payload = str(json.loads(json.dumps(hs_payload))).replace(\"'\", '\\\"')\n",
    "    hs_response = requests.request(\"POST\", hs_contact_url, data=j_payload, headers=hs_headers, params=hs_querystring)\n",
    "    if(hs_response.status_code == 200):\n",
    "        obj_response = hs_response.json()\n",
    "        new_after = None\n",
    "        if('paging' in obj_response):\n",
    "            new_after = obj_response['paging']['next']['after']\n",
    "        return obj_response['results'], new_after\n",
    "    else:\n",
    "        return None, None"
   ]
  },
  {
   "cell_type": "code",
   "execution_count": 44,
   "metadata": {},
   "outputs": [],
   "source": [
    "def get_deals_from_hs(dt_inicio, contactId, after, properties):\n",
    "    hs_payload = build_hs_deal_payload(dt_inicio, contactId, after, properties)\n",
    "    j_payload = str(json.loads(json.dumps(hs_payload))).replace(\"'\", '\\\"')\n",
    "    hs_response = requests.request(\"POST\", hs_deal_url, data=j_payload, headers=hs_headers, params=hs_querystring)\n",
    "    if(hs_response.status_code == 200):\n",
    "        obj_response = hs_response.json()\n",
    "        new_after = None\n",
    "        if('paging' in obj_response):\n",
    "            new_after = obj_response['paging']['next']['after']\n",
    "        return obj_response['results'], new_after\n",
    "    else:\n",
    "        return None, None"
   ]
  },
  {
   "cell_type": "code",
   "execution_count": 45,
   "metadata": {},
   "outputs": [],
   "source": [
    "def get_pipelines_from_hs():\n",
    "    hs_response = requests.request(\"GET\", hs_pipelines_url, headers=hs_headers, params=hs_querystring)\n",
    "    if(hs_response.status_code == 200):\n",
    "        obj_response = hs_response.json()\n",
    "        new_after = None\n",
    "        if('paging' in obj_response):\n",
    "            new_after = obj_response['paging']['next']['after']\n",
    "        return obj_response['results'], new_after\n",
    "    else:\n",
    "        return hs_response"
   ]
  },
  {
   "cell_type": "code",
   "execution_count": 48,
   "metadata": {},
   "outputs": [],
   "source": [
    "def get_hs_stages_url_from_hs(pipelineId):\n",
    "    hs_response = requests.request(\"GET\", hs_stages_url.replace(\"{pipelineId}\", pipelineId), headers=hs_headers, params=hs_querystring)\n",
    "    if(hs_response.status_code == 200):\n",
    "        obj_response = hs_response.json()\n",
    "        new_after = None\n",
    "        if('paging' in obj_response):\n",
    "            new_after = obj_response['paging']['next']['after']\n",
    "        return obj_response['results'], new_after\n",
    "    else:\n",
    "        return hs_response"
   ]
  },
  {
   "cell_type": "code",
   "execution_count": 49,
   "metadata": {},
   "outputs": [
    {
     "output_type": "error",
     "ename": "NameError",
     "evalue": "name 'df_hs_pipelines' is not defined",
     "traceback": [
      "\u001b[0;31m---------------------------------------------------------------------------\u001b[0m",
      "\u001b[0;31mNameError\u001b[0m                                 Traceback (most recent call last)",
      "\u001b[0;32m<ipython-input-49-f136f34e9b30>\u001b[0m in \u001b[0;36m<module>\u001b[0;34m\u001b[0m\n\u001b[0;32m----> 1\u001b[0;31m \u001b[0mdf_hs_pipes\u001b[0m \u001b[0;34m=\u001b[0m \u001b[0mpd\u001b[0m\u001b[0;34m.\u001b[0m\u001b[0mDataFrame\u001b[0m\u001b[0;34m(\u001b[0m\u001b[0mcolumns\u001b[0m\u001b[0;34m=\u001b[0m\u001b[0;34m[\u001b[0m\u001b[0;34m'pipelineId'\u001b[0m\u001b[0;34m,\u001b[0m \u001b[0;34m'pipelineLabel'\u001b[0m\u001b[0;34m]\u001b[0m\u001b[0;34m.\u001b[0m\u001b[0mappend\u001b[0m\u001b[0;34m(\u001b[0m\u001b[0mlist\u001b[0m\u001b[0;34m(\u001b[0m\u001b[0mdf_hs_pipelines\u001b[0m\u001b[0;34m[\u001b[0m\u001b[0;36m0\u001b[0m\u001b[0;34m]\u001b[0m\u001b[0;34m[\u001b[0m\u001b[0;36m0\u001b[0m\u001b[0;34m]\u001b[0m\u001b[0;34m.\u001b[0m\u001b[0mkeys\u001b[0m\u001b[0;34m(\u001b[0m\u001b[0;34m)\u001b[0m\u001b[0;34m)\u001b[0m\u001b[0;34m)\u001b[0m\u001b[0;34m)\u001b[0m\u001b[0;34m\u001b[0m\u001b[0;34m\u001b[0m\u001b[0m\n\u001b[0m\u001b[1;32m      2\u001b[0m \u001b[0;32mfor\u001b[0m \u001b[0mitem\u001b[0m \u001b[0;32min\u001b[0m \u001b[0mdf_hs_pipelines\u001b[0m\u001b[0;34m[\u001b[0m\u001b[0;36m0\u001b[0m\u001b[0;34m]\u001b[0m\u001b[0;34m:\u001b[0m\u001b[0;34m\u001b[0m\u001b[0;34m\u001b[0m\u001b[0m\n\u001b[1;32m      3\u001b[0m     \u001b[0;32mfor\u001b[0m \u001b[0mstage\u001b[0m \u001b[0;32min\u001b[0m \u001b[0mitem\u001b[0m\u001b[0;34m[\u001b[0m\u001b[0;34m\"stages\"\u001b[0m\u001b[0;34m]\u001b[0m\u001b[0;34m:\u001b[0m\u001b[0;34m\u001b[0m\u001b[0;34m\u001b[0m\u001b[0m\n\u001b[1;32m      4\u001b[0m         \u001b[0mstage\u001b[0m\u001b[0;34m[\u001b[0m\u001b[0;34m\"pipelineId\"\u001b[0m\u001b[0;34m]\u001b[0m \u001b[0;34m=\u001b[0m \u001b[0mitem\u001b[0m\u001b[0;34m[\u001b[0m\u001b[0;34m\"id\"\u001b[0m\u001b[0;34m]\u001b[0m\u001b[0;34m\u001b[0m\u001b[0;34m\u001b[0m\u001b[0m\n\u001b[1;32m      5\u001b[0m         \u001b[0mstage\u001b[0m\u001b[0;34m[\u001b[0m\u001b[0;34m\"pipelineLabel\"\u001b[0m\u001b[0;34m]\u001b[0m \u001b[0;34m=\u001b[0m \u001b[0mitem\u001b[0m\u001b[0;34m[\u001b[0m\u001b[0;34m\"label\"\u001b[0m\u001b[0;34m]\u001b[0m\u001b[0;34m\u001b[0m\u001b[0;34m\u001b[0m\u001b[0m\n",
      "\u001b[0;31mNameError\u001b[0m: name 'df_hs_pipelines' is not defined"
     ]
    }
   ],
   "source": [
    "df_hs_pipes = pd.DataFrame(columns=['pipelineId', 'pipelineLabel'].append(list(df_hs_pipelines[0][0].keys())))\n",
    "for item in df_hs_pipelines[0]:\n",
    "    for stage in item[\"stages\"]:\n",
    "        stage[\"pipelineId\"] = item[\"id\"]\n",
    "        stage[\"pipelineLabel\"] = item[\"label\"]\n",
    "        df_hs_pipes = df_hs_pipes.append(stage, ignore_index=True)\n",
    "df_hs_pipes['label'] = df_hs_pipes['label'].str.title()\n",
    "df_hs_pipes['pipelineLabel'] = df_hs_pipes['pipelineLabel'].str.title()"
   ]
  },
  {
   "cell_type": "code",
   "execution_count": 50,
   "metadata": {},
   "outputs": [],
   "source": [
    "hs_contact_url = \"https://api.hubapi.com/crm/v3/objects/contacts/search\"\n",
    "hs_contact_properties = [\"clientid\", \"createdate\", \"email\", \"hs_analytics_source\", \"hs_analytics_source_data_1\", \"hs_analytics_source_data_2\", \"hs_object_id\", \"lastmodifieddate\", \"userid\"]\n",
    "\n",
    "hs_deal_url = \"https://api.hubapi.com/crm/v3/objects/deals/search\"\n",
    "hs_deal_properties = [\"createdate\", \"email\", \"hs_object_id\", \"lastmodifieddate\", \"dealname\", \"amount\", \"closedate\", \"pipeline\", \"dealstage\", \"closed_lost_reason\"]\n",
    "\n",
    "hs_pipelines_url = \"https://api.hubapi.com/crm/v3/pipelines/deals\"\n",
    "hs_stages_url = \"https://api.hubapi.com/crm/v3/pipelines/objectType/{pipelineId}/stages\"\n",
    "\n",
    "hs_querystring = {\"archived\":\"false\", \"hapikey\":\"59898527-f568-4a44-8533-0fac9c566a83\"}\n",
    "hs_headers = {\n",
    "    'accept': \"application/json\",\n",
    "    'content-type': \"application/json\"\n",
    "}"
   ]
  },
  {
   "cell_type": "code",
   "execution_count": 51,
   "metadata": {
    "tags": [
     "outputPrepend"
    ]
   },
   "outputs": [
    {
     "output_type": "stream",
     "name": "stdout",
     "text": [
      "68212672a9bf1c6dc9346e5801db8aba195f765c0196\n",
      "23e97af1a3de1f5e8397bd803c8d71f92d709906f9987ea8047a62cb32ed50cc\n",
      "24451864558fcdfbc2c06a8770b33bf29dee66f5bcbb2f7097c0a9bae3688776\n",
      "24cb883f160935f02f9ba2ec129043be8d74208863c865e69f1e5cfe316a63d9\n",
      "24df49e0a104bf5e1a3479887d2e28649bc2a7d7a3f506686ead3ae897a0f913\n",
      "24e156f96aa016a59c4a6b52dbbe6ac21b89b1f43d9bf7190d11a546fd649a9f\n",
      "2513697691031268627b96539bd1ee3d00cd9ac7b9108f12ba9ee96cf34a3bb4\n",
      "2534fb7a1598bc2c529e8306b1d0e301c13dd20b0adcd3eacfd4df3c500ce433\n",
      "2553cf7e84390e606bce41c287dbf2902b19386901dae79717025aed36c28347\n",
      "2623d9326080281e00dd34c8ca7792e79c07a73f7ff2a7c0a2e21f0924c091d4\n",
      "26b5074e830e0de02dc1a5485f598f9f8faa7a5e362aaeed9f6d414fbac14e8b\n",
      "27113357f1b05729601f13d6f3fb287fb3beccc925ae2b0f90df99d1429c825d\n",
      "27b6c065fa97960c3ae121ead6c78722207e928d80f10aaf2e902a67fdf58109\n",
      "283cc2a382bc9a5e9dd529c6f8a115d6f1fb1b81f33472e2ce609f077e27ad5f\n",
      "28e95aac6b64b42a4ff0d6e40341853ab02ac209d5e1df9ba9c68b5e25d6f91a\n",
      "297e16e222a4a21997ac19f9b424a59643316bb1d4d85bd2e5ab3ba66ed905a2\n",
      "2a1f1686722aa65276d4e3a19a3fbe9966127a1abd0858d353086398795aa030\n",
      "2b0a2cb4dec2ee8b473ed490e46253f4f67276874ecf0744cc7f5a8b9a86938a\n",
      "2bf78f1c7bf358389a4f6046e57fd1b9dc47bfdec99f0dc3dfccdc8bd396ba3c\n",
      "2c2150d4f35132c8799fbd3b55d8fbec2a90a82af8147d19ec92f6563571a922\n",
      "2c399a00a4c0fdaeee0b4fce88b109aa138d89b98cd8743a0ef3a4f8791f602f\n",
      "2c41f2e70462a9e3ab1c0f0db68e3998a1434ac7b24794803154cab96c4fbd22\n",
      "2c70002e44004b27e4df869f233c38a14d7ec3900f0366157d22b72a7fb2731e\n",
      "2c7974286f52d101ad96d8a2c7e0038718a61881916b9cb8cf783e21907755d9\n",
      "2cd51e5aaead6e0981b57fa5887e7eae2294ee56d4d9f47042b641385018c310\n",
      "2d4001c87fce206f5c07838ff9c3f5e9b76eae1d5e183a7880d5df28bd956f4c\n",
      "2d43bee2c3f3a46aa1dfd20739624bdb9c57db4cbf2471b66976d13d5158ea0a\n",
      "2dc7dc8078acaa816bc738b429e03a1ec3ff706cc290f43f3050fe183ce81caa\n",
      "2dd3e19a57abf50c5f1354c01ecd24c062d0559e54031f85db1ddf4b3770130e\n",
      "2ddc9a4a5e88c9a8960b373a4f5f62a9f38f720dba73a412b0de0e1ceb0d8e56\n",
      "2e8dc6d969d1c7ad4926881df341ee7f5b41062be628ebcae64edbe85869a539\n",
      "2ebcc2c0242b278580ca5f4d25f97c8045ce4c2f527259ceeae15b825f4198d4\n",
      "2f69c152b9a578a7a9d06f2e1fd197eb477614dd3f54bceb3e038b5ca6a057b2\n",
      "2f99e66314b12287881654f69e8bb54965174a3811ecc670640d3e5d0c782023\n",
      "300061e0e3ca4e285dfb0c17f944d9278ea4ac33e0e1d8e0eb296a0acff2c4af\n",
      "30b2ed65944cef90d18617b83b3497c9c45719e30779e503f4ce3ba27085a78b\n",
      "3105d95d96c8b284cb8246102eddd6acd8da563a1e07fbb8539bbdfb7a57f49e\n",
      "31b83ccdf6621d1ab68a20e442a7f977ad79b217d887abc8f29560ab6f83fac6\n",
      "321ae91f934d6cdec98a05dfbef4539a0b055d155fe8b7ef5d18aea97bde0777\n",
      "328752bffb9b999798e203aceeea494f1aad213d658037e9260ad1d37790cb5a\n",
      "33a63fa60099c7ee060084652fbd98510c1083f6eae990297efec81e2084b2b3\n",
      "33ba8f4b7b0d75f8bfbb8d683b0553064e921e3086d397eaac310b2a2b1b3df5\n",
      "33e4e3e3c9b6d406aa3f0bcb80a6b547364341b2c28f5507a8a79afd732e2f72\n",
      "343988135b64885311164ad2b6ca750dc95cda4e5d158a4d4f1587beb4c0fd19\n",
      "34614b938fe8d673ea62403b1330f725c61a3ba7be5e076d5d1e183ce357ac28\n",
      "34688b5e11a567adca838b2a5cf1b31b2d2c817c841c87ae23d2619284569a74\n",
      "3498302a46b0db2f381501ae78db7c21aecb033fac84f12a6c00dbe9644b8e23\n",
      "34b05d9bd7c5a6a6445f959a792dfc21de4753bbf2c253c34267523a55c7b7ac\n",
      "34c6e6b7734514d347bf40bb4efeecf285b71c60f57b8f5f21014f3755872ecf\n",
      "35232d1719023bfcb42002ffc5835731b01a4c08e27cee2511e8bbc018f49792\n",
      "35d1526739df51c457d39a8aee2860bafe0baac8c72637d8269382eb973a2e4c\n",
      "35ebf5959b52024f1e33a15b6a95ec3449e718e52e5b466d9cd6c40888e73359\n",
      "3724c001dc6b68e6d65076e05b02f6d92e272d40c41290c04b168797d4af7558\n",
      "37808cf953690b111267def5d79ffd430e05cd2fd4756e9923d14744cf5fc977\n",
      "386549c6849469d12f1fd9ea047d772ad5fe2ca19088df528c8624e11f1fecb0\n",
      "38df1f62a610aa0a476989ccfb7a23f2f3408f05c2d35a3affb0343578b3d704\n",
      "39f01f3424b9f6480cf6dfb3c54342f4d56b1908c261a3c112a3bdd0faecf3e1\n",
      "3a03220d426af49efee8cf8db3bc7ca326a9b08a0fd692b42f79f5bcfa21fa8c\n",
      "3ab0b04043830fbe34ea92f600a300283da14efe4543d667a288c197a7dfd8c6\n",
      "3ac90e1f7f60afdbce1e96b162f447e284930081b441b4137c3ab62486aa0548\n",
      "3af4d3af7a06be839f75444a85f854e76a63583446e5bbf22d95bf3f3f137d03\n",
      "3b769b8616c1f1c751eac32557b666ee8a7a82131ddc0923cedf5e86210b8fa8\n",
      "3bbbf37fa6287b48e91f11e46f0df4a898abecf26ef023a88cfb1b562a6fd478\n",
      "3c093e79cb28d9b9a26d6b2b0dd02d5c49b3fe7cd37b60dfad0eb06b867f9884\n",
      "3c2cc9b4076048b64bd7abecbd474814a0d47fb7d00bb5c26cb739a9cd61eba2\n",
      "3cfde4e21f623be0d13e12d600dcaf0dc4f0d21624e1d2523b16e0076db6d0c9\n",
      "3d0b15e1c66a431a7990773ff8302683ee8271e6833d8bb942d624ad7f2a8ee5\n",
      "3d1a3c7151702e03bdd5dbebe1d95c5d2793a13542243db0823d7dc57b160d36\n",
      "3d7fa41a0b0cd923916aaeb74bbb737dc43d2a53f52b4ae536d1de219f036638\n",
      "3dd2913bf1186a87fa5bb70c7ac44994a3c89410c2363c0cfc23a6483b7e470e\n",
      "3ddf2fb2ddb46288b4c7212c436672bad96ddc0d04aee878b5a966b5323874a1\n",
      "3e651b1daad61d2154576c0e358c629963ac0503c7ee2e4d6e8089eed41678ec\n",
      "3ebdd098e6d7f0a571042abebd7345eb837b0d951d6251b682a73c1d95b7d6b7\n",
      "3f23d90f50ec93e0eb3f7fdf9b6082a72b02a02c15f42ab400b57db3d1e8a23d\n",
      "3fc80d65027afaf2b5125eaca476472f44dc7442b785552d82aae4732d7ed506\n",
      "40168ac34b11a60f972f4c220c72b851bea218961827f703d565912e893a05d1\n",
      "401748df68c0464e122d8aab0cab1960936de0793c85082adb7393a37cb697a7\n",
      "4035bc5dd0924ab16fab436f45eaa9885ee19fe06217520766bf9c81e3e8560e\n",
      "40501caddb7210ef8c06dee5cd5fc1ea29100e8cb88ce02cb7162855cac71faf\n",
      "4050da4520b5afef3cf438d63de146baaa62c2b1f1fcd1abd90f497ce7c2baa7\n",
      "4083e237a92babcf811ad91de21e405119ff288df32e3729818587e28c414bef\n",
      "40f323fd6f69ba1e8750efcddf9248be1d551bb403d5784c775fe886b69561c5\n",
      "410efde363951f952b9855cac43490ebb3b00cd55510723b5f722d808a534d7c\n",
      "4118b7847c2827f9ec7388881fceb46cac7422cabcf0617a602f283e8a5dcfa0\n",
      "41741790ab91c38a000de42a4957aea728b67649b42879731d8a28b1c02ad39d\n",
      "41eb52f601ab2e3fd8536dface7ba3ad5f4b4ac95a10bfd186eaa57f6fa7c393\n",
      "421f8da2668b2380ecb38be59e7e32127c56f40b7dbdcae89f90a444b1d15849\n",
      "422df4840ca256219b095a28cf8c73bf77710c305f27040f63635ccbfa1c2c75\n",
      "4267007c291336063896bc6d1c647b6d6f1b8a0fa1f3131dd0703ce4aa104df7\n",
      "42908c5650d4c1628d751abb34c486fadf18a9806c722bb96a8cc50e67f84d6a\n",
      "42b04a70d7507116c25b5ca75a514a7dfa16586b8cdd8fec210df0a638eb63d8\n",
      "43055c6ac143450999d406421b8ed7178f613ae1eabf231aba51e76bfa516d08\n",
      "432fa3db0c9920a867eabe7372c2b659a1476e68a240bd19d6afde08eaa35768\n",
      "43b6aaa8afb024206a4242dbcac4074a2d037dfc03c749e5e5efb860886fea23\n",
      "43bf952cde979bdb8a006cb9a0dbd63932c46d1b3ba4bc0b4d8a9a50c70b2f2f\n",
      "445b6d0e1130a5ffa348a154620373eaa55ce763b2edfc18a9d1930677872b9b\n",
      "44712da76acbd788eb0546764925fa67f6e61644c8bd65b99cb592ee96825e98\n",
      "461ca05dc4b151028345de5cca09d5d9f1ff1719815db96b1e00bb629c6100d4\n",
      "464aa8d27cd8f17cee6ce895310d4765b7cbd3ee0e05dcec7e5baff01e6995e0\n",
      "4657ad3cd3008afa83a31ce2d5093d5ecb0d74b9ecd89c0c1973dedd5aa7995c\n",
      "46f155b8382016fb18c110fae36cb069f265e64bfa3a645029f8e992fc346ca6\n",
      "472cd7eddf3cdc91c36e66876c7ed82b795479c60390956365c71d60aeadfdca\n",
      "476ef353a0e91818b388f4157e1cf81cdab1a56eb77eec3bd7a69213c233bfa1\n",
      "477152ff33c5b665f1499ed84a7bf3fb216dfd3b8c13036d9684a167952314f3\n",
      "4773cdf5db26c9795849c470cd57c0bdb0931422d2234b4a41907a2b374680ff\n",
      "479c9e00a79972d6a75c1fc4c7d62b33ff45f45787fb04439485579016966574\n",
      "47ea455f9bea8986db4aa3f11d1f246acf439a19e07904f4d657f5ff1a374a6f\n",
      "4827559b818df4bc7b2aecab9879f5ab45898fc6214dac72da6cf166c6b9486f\n",
      "4860d3c273c0e322cba638e7915cd1790909e2773f02e5e3a041a914073f6128\n",
      "4923f8243fac3a6cca500e02f60659de2825074b207312459051b50bbe6187a2\n",
      "498e73d30e774e8ab2f636ced37c765e464e7f964a5a67f32260d6f2d20f6d61\n",
      "49c1a8ed75b65573c5a9a156b4ee74a16ad98b878674383d9384d491ecf62263\n",
      "4a1cac1d9577d3bf5d7b1f24af84fe0ede7725fd071bc1d7399ef2a02480a850\n",
      "4a9b83288c9543146f1ee897d35ba7da10d7ac4c82ee1391ebd51d4f4f6c4711\n",
      "4c0b8c70b27cf71ed6a653117851667b919440bcd5ec3059158511f2c824cee1\n",
      "4c0f00097e0dfb3ac99f05823457506dc5422d9e3e08c519839983b9272a158d\n",
      "4c117bc9f88288a7ab0493067890465d55636adc7696f3d8920576686adbf37f\n",
      "4c21ff3f0f337acd60b2f258aa13be512bd16ab28c4c808a67cef19dd85ee40a\n",
      "4c296c01ec76688fb368083211fa9a4d0059fe055ebeb76f1e9f1e07a8ed34d7\n",
      "4c56cd2b443e755cee6d7fb9fded5c5fd5b43b49981ea2bf138bc3cd936207d8\n",
      "4e796f3f95e600f0fbb6659107294503e850c00c4788bbe5629baeec4f4c183c\n",
      "4e906cdd90a3b7b060e8fb15503b1527c43b85fe85d27b69f4a3182500544233\n",
      "4ebf21c3751e3d638874ad7917839751c52c07ae67c989af9af143e9abf9f855\n",
      "4eeee63977fe5db29b947be99bc45e4da749e59247113f419ff94063e9cfc46a\n",
      "504db4ab10df6745e1200b0d1ee0844298d90cbd01c837fff6b985798d8743d1\n",
      "50b3498c9c9bad515ad9d061fe8c9a1b9aec8acde19898709add999ebf856acb\n",
      "50b3b52b9c748c04de0dc1212d347e12f9fd22d667fd8dfe299c11a07ce02d89\n",
      "50c094149cf17a13ddaff776976c5c8c6867d0351130807ebb213721a5128a95\n",
      "50e70802b256010bd9da1f3f03234a77c3e9c49fe2a645d5f0f65ac5b8c771bb\n",
      "510bf1cf124f3e368935e95f8b7c19d42fe9bf1dfd4741087e697b5c48fa0c04\n",
      "513e9985e8bcf1f525676258ea2f424fd0eb51b8ec8f7d6b067748a39b8d2761\n",
      "515aca0af5fa71273ef96f9cc2bf207385a487f9ad10c90304bcfa4a20327bee\n",
      "5176334878025487d5c262fad43781d777fa76112f350f36a8ff7836d858d48d\n",
      "51827f09acf431c810d42040c22f3347cea18a4397362bf08ddfcaba395c3ee3\n",
      "52e7e59c83fe6473c63c1ce1f4293eff6fda60db428d8a0338431c871198adf4\n",
      "52f731df06ca8d1855b5bc358449187a94412ef463453f34dd8e7d7ddc3720ca\n",
      "52f973f328ad07b77e3e49cba0c0f7642adde9b4815210f88330d0f4ae5c03e3\n",
      "531a0716cdd9ec1cc97fcfe67e12a6cc1ff145c597f0dc623372467f1f16f48c\n",
      "5324f922ed82ec8b5dc9f46da7caf84726999536afe3732e4f2a85377958a21c\n",
      "5325ab6ebe9a981a594e192c8550bb24c3e983d5924c74c7af47bd9657520d9f\n",
      "53282fc3095d3b3e088240879144e78ce6a47d7a9f8ba1c91c1668f0498d117d\n",
      "534705c650440d04bc1f518eebcc5c5795f38c2694111eb39d783fedcba35946\n",
      "534cbb941eb1a7199a2e9f01cb792fed5b29ed130bc1e6cdb96c10b2e64d3817\n",
      "5354ac489a732d6d9f8081c1d96d908bb9a9567379792aaff418d2bfcc4a1797\n",
      "5388cf4061b70dd7598419fa4f7e010b22e3539dfd7f712677b1d3d5a165841b\n",
      "53e30a2df7cb735bd8a6ecc8a97d5436c3d979c79f50020f9b3a033a1ed14c92\n",
      "5495656a99bf8b539266f4bca899238a1ff78c3b6458e46a9c8274eab166feb5\n",
      "549e86c59fae17b88d554c09d980d7b4a23c85f31c8a9745879561b1688b18d4\n",
      "552144ee2cea77fc228e6c6180867814e37d0ea99f3ad205176def653d7857aa\n",
      "554702072a56ea66ca017605769ea76eb1391de38577479074ecbc3bb6cdd48f\n",
      "55691a43555bae8297bfb1ede97a2722d182f604122cf3c60f829b43966901aa\n",
      "5573cf2fdc56ff2212519024cf7b2cb2abf9479491d165fce75dfd58ce0f09a9\n",
      "5619ffc9eecf5e382c035950466bce49adc31c0cbb45a299506d3ab8e0eb2215\n",
      "562eab28031e8769ae6d69850b4feed8f6167444dfb7756b721c6a9747ba6420\n",
      "56941365e957ed5539dac2d3cba9d19001521b3677f8194d4840cf67d448556a\n",
      "56b11ec09bd2184401654a17dd8a62974affaec00e4ff72e2bb9963b93c52880\n",
      "5767d6b69ec712536ed3b644581c96de6d0c4c263be9a713d07991e5823e8568\n",
      "57a87f005ca6ae546cb236a7aff39e256772e9bdb41c1b0998d6a975a78d544f\n",
      "57ea80328c0dfb932c0a228ae9b790a4b88e27b24744347ca9215e9d92261aee\n",
      "5817123303b8a486cb570e854793c2a9af515c8496715aa7c549c7b61709473f\n",
      "588a09b37e68ee383ffb970c61b5f09a0b6df6ba21a3ce2dd8c0b0d7587d4ecc\n",
      "58b6bb7313733947b9ea8068f735015c80e6b674b3605614e33373f63487b078\n",
      "595de9f62398b872e9d216e1c7f52c59ed907082d6bd043b1a639a05742326a7\n",
      "5993dc12546529ecb8d4511197a631bcb6cfd3267489e4b874465f702646721a\n",
      "5a6d87d08064e7d42ac0cffb4e122491e2d00fd35e91a9093113745fcb7fef0f\n",
      "5b3c62c7dff66d1e527edab9be6a03db0c170d67ec98acdbeacb1655b548e5be\n",
      "5ba6ccb8e397c672f043f31c7eebd80ffd5581fb585ec39d5b96bda34cbcb904\n",
      "5bcbe86c921bbe02ebe4d662b4e9d452d57c8c9cfdd9dde58de671fdd37f0320\n",
      "5c0c7647b078e270ae767bfd9c56014efbe57ca9a7be4003bbada2b5b54704c4\n",
      "5c658f940cf181664bc6684925e0decb162f1cac64db3db6528c85cb1d349fa7\n",
      "5c97a8b9e8ab076687aed5774b26dc514e04ce1ffa9eeabbae0607e3a754c94a\n",
      "5ccd1b901695814aeb1d627f7aa57cf5fc71a3151b7297d6be9f6b31f2ae0c25\n",
      "5d644d268ae4fbf8c5331c3243462f092f49b0e95b8bd72072e964582899ac92\n",
      "5da3aa77c79c1f563bc7a00535b3fb23455efe46f5d42896ccc2aeecda9a6ca4\n",
      "5e26400b6c55be7a206121147cad3c021f103f1a983680c7823a4babe6ee4c68\n",
      "5e399f13c7b63eb8f6c1ddd21c62272b32da546d0b2445372cba212f46a54b55\n",
      "5f4bb7081dc16d08ef02d0cc68b01e4f50de1713ae35127ab8d6980b99f178bd\n",
      "5f6f35d5cd12973f8a757849a79b7f9ce6b07027d4dedfbbf0279a0c0ad324d7\n",
      "5fc2b0cc262f38fe4af572b30488a39f2329c64ea8c2cfa3eb29499eec9c6396\n",
      "5fd1af2022de295e3810361d0930225670e1183f077437a3a09ae08b86e29e32\n",
      "5fe1b6bb2c7b96a5745dfa5be0e770118396b0e1450401953d4fdd646a3bafec\n",
      "6020933fa1ca774b168d042bc0690a4e8b41f49a3bee7f4bfc11134132667b42\n",
      "6086183c5480da418a64f4517231b00e7948945c1fedf4e8d36ef9ff40fabc79\n",
      "60eb69ac666b22a80ed1433a3ca8c5085d8432664bd7a86a7bc9647862b53e8f\n",
      "60ee357f7488da4bcedce7ae1b7f9b2ff31c1c833ffa8b1c5b38d1c7dfd44362\n",
      "6114cdca7c0f69022daf05cbb9fea7664656ef072a0174db7540c356165b2bc6\n",
      "611f5ec102d5228390b87181f65e3e165f33e9d482b476f0dd0c0df97cb92e7e\n",
      "61c0c72a51d6467a922853fa01d1587624f7c6670ffdb2c4e8b433f56c09c7d3\n",
      "6258ca0770c5701fe0ef7aac98c085f6ed7c3c092294ba3ab307c569ec24ecb3\n",
      "632cfaf4c5a8cd858f61e0697504058a977d2234987427d67a4454787bba3421\n",
      "63ac926b8c79cc52564734dfffa9b59dfbd8ae8dffe15e6249809b6f82b85b03\n",
      "63e4bb2d1fd11734ad8715d112d7f4b7720882e17b31ed460381703e00c9e1ff\n",
      "647f53fc183251a00432db43dd765776a5fdc65abe127fa53d270ff72cc0ac32\n",
      "6480f79541d735b08858bc4fa535757869bdb94ec48cd41695c09172763c15f2\n",
      "6524a2f13cf2f85ca0103e7a5ee360025199ab480ea004f3e78383ba986f067a\n",
      "652c1ae6aeed1099840efa5ba31670b9b47741375a7aa2b699c1e0a1ec7d86b0\n",
      "65518e956d45d3425dfa1a4a615f6a3233796df83a68ec0b885d9d0c8a45c7d9\n",
      "656bb24710caed90f069877eaf3246316809336bf266a463160819e1c3b9d057\n",
      "6571ee912d84bbfcecb4eb6a30e21f2ac9abdcad0dc1ecb3faba3d99c07d2bee\n",
      "659fe1a77ba4e429a3355b31ee7172835a599ea510295bdebc0dcc10c3fa2556\n",
      "65bba2ee999c585f1603bc772e8fe131235469bd31db928eb3ff6ab7eb086b14\n",
      "65cd7c944d3b3cdb5203b8cc91689813a3014ab9d26f3ceb103c8467bb86b6e7\n",
      "662d108f4ebf46cffb022bb0c784503f21d2a5986411dd9d3d108772a342a64a\n",
      "666a1c3b114937e9804c7b81aa29279c2672dd0f9061b0ac86712263f72246cf\n",
      "668cc8a742e4c59dfa52a500afb14e28aee4bded3048103439e25cfbcc13f078\n",
      "66bc2a1f9ec863c6463a19a4f591242dc05abf81b231c84651413041c6c352bd\n",
      "66d9e9ca2c07297068ce70f3a5d8065a2de112b51115201ac195c7d107cfc59f\n",
      "66eaca7a4a9bc3ad17ed607195191668d5d26ca1bbfed8a71e64745f9d39d70a\n",
      "673d287026a4dbc3717ffe8ab76da50a5b9f374152b0e05e4823004a7bd369e4\n",
      "67a97c73af36303c1dd391d96ec372f4e3c10cfb2b350e319777be02144daeb7\n",
      "67ea8c60f3d5f61c6e1b5a800ef3e5557a5befeb2907264e0c9b8e0b23e74bc1\n",
      "68cc5661819b9089cd3979d4d97d98652b7f27b5927b35c67cada05e93a6ef95\n",
      "6937629a6c245603380673e1be4515228049d13e743a5d61751f958b33ff7f9e\n",
      "697d599ccbab367b7f29d306a6ee327c7b7f31e9d433f404194fcb189b5ce4e5\n",
      "69b0e931cf7486cd2bdd6f8a3a3559cba78d56ffc09b86dc6ad2b6fc515d8696\n",
      "6a0ee78c6515895abec054c6640ade32441d6850cfbf655047620224c3084116\n",
      "6a118f94c9d39da0ce6c63803b0d5ab5e30dd9d71790a3b98cf382a068e32424\n",
      "6a2be8982a4956e8225444575eb44ce55538a70fe5e230f5b679c3ab7d0d32a2\n",
      "6ab61232911c047f45fc4f847dddcff5a0073742994dbca76354d7c562f9f2b5\n",
      "6b011b13a7ae7e9469798ac6b137439816f16ee1543928a5bd19358a4d368b14\n",
      "6b10cccbfa5d7bcf66c88df154fed5700b2e9ced39c1e6c4d5e3b947648a06f6\n",
      "6b1445a5e4e33f0b8c8f8182cdf683c13ebb7ee0329d66bace4c67b9744ff803\n",
      "6bae494338f6bda6970cef0a2d9d9abbfcf21a9a77376af7e89767fbad423f1f\n",
      "6bbd355005a1576c6de7ec63c38e10e2b41ce99955d711d27031e5abba92082a\n",
      "6bbe92a37e3861189ae38b44b6889ce8d72eed1f75e0390e5542a6fa132a9b56\n",
      "6cc7df468a83f624ecd07d290eb3d6bc7cdb0cc71d24150babaaf3482161f183\n",
      "6cee19f449c5658417fe127d2768f410795634093fc69b5fdf357fd0effaa675\n",
      "6cfa3999ea1f6e2f94217a5946c95179e5a4e39821032ffa82466be5d3ef9486\n",
      "6d073b1c811ae6549f487e15001e063b233b50dc6ddfe410ab9d71d0b3297f12\n",
      "6d5183110842b1c4475c5d4178a17988e1dc791fe07a3a9ec54dd6572d82de1e\n",
      "6de1a56517954b6b4ca3ed0063d1164fb55a7b8cb45d11a838719a13a3b4b89f\n",
      "6de83edc542e94907b585d62c612e058b444f7cb0ae37eebcf56e1478b538ea9\n",
      "6e656ada4dca71eac9cf6af0c6aadd1f7ddfefb6d76c29476671987cf81e3961\n",
      "6f0a4b60933eb2460b69fd7d170b9a610ae2ea183252b2a8d22797d2fb68e1f3\n",
      "6f68cec372aa0907d6bb65da4ccb29ce081e4dae6e2cc68ff4280e07b39db4d2\n",
      "6fcdf0d6e69028e3c75805b0aeff6b48c29c95070aad8442ca121236bc388100\n",
      "6fe4c9e802ef9927529818aa46ca9cffea0b101499de5486df20f762f5e59f12\n",
      "705f24df5c3d342ae4617f0a4af801555e9878d414056d899a766f9ef7dfbbcd\n",
      "7061f73a6968f8db31ef44846917f224815241eb063a8ac93681e7d2a0aed765\n",
      "7087a8a6ff23b28e9431885b7cecd1aac1ba5aaefd8f066beb2b237ed773fe0a\n",
      "708ce6aa942bff073375afb831c353d6c90238f58ccdba460dba4d58cf525c52\n",
      "70d6a272888c47e963833c4da60db894d22d96a067ce99e7ecd7f2cfa243deb2\n",
      "70dadad7996e7e1e3947c5eb58d6658d4db427adf6bb66e46de026df9c0b4b8b\n",
      "710c5d6a993275da3b22aad4fd1136f45c91512077c2a50ecc96dbd870030723\n",
      "7165f6d2799dedeb36f3158bb80156e80cc2fd4660fbfb4280b48ff541a8a5df\n",
      "720d49f6c0ce0ae22e674940a04d95d85796a34d41175dcc572998b5e008b202\n",
      "734485c1a9ce1a63d15e98d38f9383c6c857437b96d102bca1e667ccb23a9215\n",
      "74d1868b328144f80891cf9fa056f990429303f4b02b82dfe53eb30033624adc\n",
      "74db3ca331fa55ae2267a59f7f13d1ed72830fca7ee2422b3c89bc80b60711d0\n",
      "758ca27caa14141b97f2770bcb3121c9efa1e41218e0fc213eb5eac7af2e0fd3\n",
      "768675e2214412eeedae2e151fff57ea1f42e9f8be78f667720a6e6064180265\n",
      "76c889dbaa8a799c714025d1ae95073518d9d855e5593f8b2269e4a9ddb8e63e\n",
      "76f9c3c3f24c1f4b5aa70887ae9125f66006f51963c5ed30694f27607c3cd35f\n",
      "770e7142250769ff939e305d8a30f6f397d8ab1f03149985bcba730180073d2c\n",
      "775bfe39aed55b1a06a6344c87eb22d131e221680c5170f0fb6d04891e00e520\n",
      "77c11f63cf1a382bb91c4a5fa4ea6771ab640ce0ac68cb7091c9579c9a91bd76\n",
      "77f18f7eb608503dfef2adc12569e39921512c84472c258382c310eb2af00b61\n",
      "78aaf1b400f2b74ef671b0fad290c7cd85bdc7c263b524c6c888ed229be9ce6c\n",
      "78d5abda474d09e518a9740b02b5cd7371f39d48f507d830219b79aff4abc26e\n",
      "7949215fa1f0550ad3ebe97b80b7dc26ad8634c1d0e7e6fffee2635bdbc6e1ca\n",
      "79bb0dce66bf87c3f1c33b2008ce0105b06f4bfe7f66b68f0bf75f8a4e0322d1\n",
      "7a99b14c9b32c5a86ccc82f01a2ebe5bcb6365356e1c47220129e6a334801a8c\n",
      "7ad973ed48552e65f406775e4acbaf03b84598353afc2c2d355d94dd8a7ce3ec\n",
      "7b18ac9bf22378dec381ab861bb3bf47da03d679e9441315bc1e8a0bb82e2389\n",
      "7b47fcc6ef2b3516e7fd91b893e2c1e69845d8a81a481852df3539870667a7f0\n",
      "7bd2ccd7c6af4b5c9c6804d24817f173f9639bf98731ee24b7bdc57b7831dbe9\n",
      "7c30cfb2198766dd9b26c9d4dddccba2224fc284af8880bb984622b2b2c4befd\n",
      "7d2bf36a26b977df0ecdf25d60096d5cd8167fa9b7dd510648f7bdce81060fe5\n",
      "7dbd0dbcc67a347867d39e8d93f87a5a2820b6ab30ea767682c99aecdebbdc77\n",
      "7e44d984836401c45fee87eeef6fa18a208bd6b30feced9a828e5b6f2f07951f\n",
      "7e85cd2fb5705c4861b0bbdc43140ccb4233b9384e1f64a664eb57b1bc77ec8d\n",
      "7e8e882a3e54471e031c145ebe49cf1be3834acd5ad09bc6becda7008015bd19\n",
      "7eb70284616b1a4462b5b8c70bfce5ac30ec39403db94077a359264cefe57dc0\n",
      "7ec1d706a79bb9a20ce98ce16ed1121180df62b3d3943cd5cf36b01c1e05ff68\n",
      "7f46c3bbe4060b99fe8c1abd24102fa47f942b5c605e4972690d5cb399dc9a9d\n",
      "7fd208fec90bfef7c9665694e9efc1662a923c30335fa62fa367d0c19586438e\n",
      "7fe7fb1ffda6346e47476f47ba7ca6b0996dffa8391991fca79a8cdb40c1093b\n",
      "804aafda6ad900349b19cfa1b4509317069987459148a4ffac2d5938c57118b9\n",
      "807fcd867cf5b949bf21b9e389fdf25ea827e2f4462a5a5f3e555e2fcac1512a\n",
      "80e85434ed4e2885aab58eb112c1d21f206fbe7c2fdbcdc9ec8c29720d7ebe83\n",
      "8162b7e7f9e98b817674343d04b28444990574384a4af1ef5495f374ceb4fc60\n",
      "81d0361df79ab7fe5a900f137ebc5cdc27f6661065223216395eddfabb6773c2\n",
      "81edcc059a5123900a6c107c3df6b863054abaec951267dcc0c9b783e3de9a69\n",
      "81f3e04e4c9e2cee2c0a38a19ea76bf52692c53fa44ed93b8539fe7ac2d8fa0d\n",
      "81fd39ed62cf871b45a5ef628711dcd998ac8f84a3dba718abd0cd93c19c9a3e\n",
      "824852e2bb1d5b2cae14c76f40f30b85897eb110903d96d89d97555f630aacd5\n",
      "825731e00f5523da8f0e1eb00a111e24c66e9ecbb7e1786b30a393ad020f5e48\n",
      "832d4cf40710c15ce4c41a81902a1cfa675d8c0bf52a71c03637a7a115346d34\n",
      "832d51daed4bb1cfee1389c9c75044c8efae745bc3b5aeffdedede797a773227\n",
      "8337d6785109339e078e7c99008d0ceeee86a230cfe4f426ac8bf9725edc212a\n",
      "833a5709cff05ef7af76819d41e9e8cbd0580b96f59dd930e151e3c9a68e1885\n",
      "837c9f8cb0fd2024b544c55b2a3c927207945b1b91251d5df3fd45d496e81af1\n",
      "83d2af8f3edfe818ac14c68898c45e8d1acd556a2f0321930988979cc9255112\n",
      "83d6aafeeca6c2f00aee9d019876d4421cccb30f405c305a20556443ede2db4c\n",
      "83f3ca8ec0ea7f32a3baa6c8624201eaa957a76140b481b541adb1ab56a154e1\n",
      "83f69c0cdf95cd1feb9cb910120ff25dc1bb77c8d98d65f342b9e1f66a2fe6e1\n",
      "83f8afaca39f97e27e26e0a713dad174f67c7b14cd19a0b3815007e7417a1c8e\n",
      "842daa4dc53c5bb3dc05d73c4f0d3c02d30498c56e0f97bd408b1411ec5ee8e0\n",
      "84558881d79113bcf7cdd9bb178995df168483f3837e3837c99966b8d3b0cd10\n",
      "8492969b91e2af2540c3d6b1e4ebf955827ee7e81bc238b9881baafb42152820\n",
      "849b3ec7d326cee071f86c86ead1d5333438ce9704d485f51d57cfddcbea8fc0\n",
      "84a841f45a5046c8180a79373ee95b4a5c14abd1d3000226cd2ad35174ece6d4\n",
      "85353a255ad93fee32c477fa58eadae9499861b01349ae22870677a36ac84f97\n",
      "85ef05e6cedc905dbb55d173bb3b9627c423d0dc72e0ccd5891b8c6ea5d732ea\n",
      "85fc3c00a528795662947a72cc4c2d4835741710ea7929048685605cf1c4aa8c\n",
      "8692f5b92e1eab01e8f72e8bc0c1521001dc52bfcc8398eee0140314ce504cdf\n",
      "86bab8db5f21b213138890052616d3fcc9a6a93f9ece075d69e1cbe4cb158a4e\n",
      "873a60ab30bf305620656a3631a604801803dc116165744547d4abf6bbb29f80\n"
     ]
    },
    {
     "output_type": "error",
     "ename": "TypeError",
     "evalue": "'NoneType' object is not iterable",
     "traceback": [
      "\u001b[0;31m---------------------------------------------------------------------------\u001b[0m",
      "\u001b[0;31mTypeError\u001b[0m                                 Traceback (most recent call last)",
      "\u001b[0;32m<ipython-input-51-5aeb1b49dfeb>\u001b[0m in \u001b[0;36m<module>\u001b[0;34m\u001b[0m\n\u001b[1;32m      5\u001b[0m     \u001b[0;32mwhile\u001b[0m \u001b[0;34m(\u001b[0m\u001b[0miter_after\u001b[0m \u001b[0;32mis\u001b[0m \u001b[0;32mnot\u001b[0m \u001b[0;32mNone\u001b[0m\u001b[0;34m)\u001b[0m\u001b[0;34m:\u001b[0m\u001b[0;34m\u001b[0m\u001b[0;34m\u001b[0m\u001b[0m\n\u001b[1;32m      6\u001b[0m         \u001b[0mdata\u001b[0m\u001b[0;34m,\u001b[0m \u001b[0miter_after\u001b[0m \u001b[0;34m=\u001b[0m \u001b[0mget_contacts_from_hs\u001b[0m\u001b[0;34m(\u001b[0m\u001b[0mtstp_inicio\u001b[0m\u001b[0;34m,\u001b[0m \u001b[0muid\u001b[0m\u001b[0;34m,\u001b[0m \u001b[0miter_after\u001b[0m\u001b[0;34m,\u001b[0m \u001b[0mhs_contact_properties\u001b[0m\u001b[0;34m)\u001b[0m\u001b[0;34m\u001b[0m\u001b[0;34m\u001b[0m\u001b[0m\n\u001b[0;32m----> 7\u001b[0;31m         \u001b[0munrolled_data\u001b[0m \u001b[0;34m=\u001b[0m \u001b[0;34m[\u001b[0m\u001b[0mx\u001b[0m\u001b[0;34m[\u001b[0m\u001b[0;34m'properties'\u001b[0m\u001b[0;34m]\u001b[0m \u001b[0;32mfor\u001b[0m \u001b[0mx\u001b[0m \u001b[0;32min\u001b[0m \u001b[0mdata\u001b[0m\u001b[0;34m]\u001b[0m\u001b[0;34m\u001b[0m\u001b[0;34m\u001b[0m\u001b[0m\n\u001b[0m\u001b[1;32m      8\u001b[0m         \u001b[0mdf_hs_contatos\u001b[0m \u001b[0;34m=\u001b[0m \u001b[0mdf_hs_contatos\u001b[0m\u001b[0;34m.\u001b[0m\u001b[0mappend\u001b[0m\u001b[0;34m(\u001b[0m\u001b[0munrolled_data\u001b[0m\u001b[0;34m,\u001b[0m \u001b[0mignore_index\u001b[0m\u001b[0;34m=\u001b[0m\u001b[0;32mTrue\u001b[0m\u001b[0;34m)\u001b[0m\u001b[0;34m\u001b[0m\u001b[0;34m\u001b[0m\u001b[0m\n",
      "\u001b[0;31mTypeError\u001b[0m: 'NoneType' object is not iterable"
     ]
    }
   ],
   "source": [
    "df_hs_contatos = pd.DataFrame(columns=hs_contact_properties)\n",
    "for uid in uids:\n",
    "    iter_after = 0\n",
    "    print(uid)\n",
    "    while (iter_after is not None):\n",
    "        data, iter_after = get_contacts_from_hs(tstp_inicio, uid, iter_after, hs_contact_properties)\n",
    "        unrolled_data = [x['properties'] for x in data]\n",
    "        df_hs_contatos = df_hs_contatos.append(unrolled_data, ignore_index=True)"
   ]
  },
  {
   "cell_type": "code",
   "execution_count": 52,
   "metadata": {},
   "outputs": [
    {
     "output_type": "execute_result",
     "data": {
      "text/plain": [
       "304"
      ]
     },
     "metadata": {},
     "execution_count": 52
    }
   ],
   "source": [
    "len(df_hs_contatos['userid'].unique())"
   ]
  },
  {
   "cell_type": "code",
   "execution_count": 53,
   "metadata": {},
   "outputs": [
    {
     "output_type": "error",
     "ename": "NameError",
     "evalue": "name 'df_hs' is not defined",
     "traceback": [
      "\u001b[0;31m---------------------------------------------------------------------------\u001b[0m",
      "\u001b[0;31mNameError\u001b[0m                                 Traceback (most recent call last)",
      "\u001b[0;32m<ipython-input-53-2a1ce7a1fbfd>\u001b[0m in \u001b[0;36m<module>\u001b[0;34m\u001b[0m\n\u001b[1;32m      1\u001b[0m \u001b[0mdf_hs_deals\u001b[0m \u001b[0;34m=\u001b[0m \u001b[0mpd\u001b[0m\u001b[0;34m.\u001b[0m\u001b[0mDataFrame\u001b[0m\u001b[0;34m(\u001b[0m\u001b[0mcolumns\u001b[0m\u001b[0;34m=\u001b[0m\u001b[0mhs_deal_properties\u001b[0m\u001b[0;34m)\u001b[0m\u001b[0;34m\u001b[0m\u001b[0;34m\u001b[0m\u001b[0m\n\u001b[0;32m----> 2\u001b[0;31m \u001b[0;32mfor\u001b[0m \u001b[0mcontactId\u001b[0m \u001b[0;32min\u001b[0m \u001b[0mdf_hs\u001b[0m\u001b[0;34m[\u001b[0m\u001b[0;34m'hs_object_id'\u001b[0m\u001b[0;34m]\u001b[0m\u001b[0;34m.\u001b[0m\u001b[0mtolist\u001b[0m\u001b[0;34m(\u001b[0m\u001b[0;34m)\u001b[0m\u001b[0;34m:\u001b[0m\u001b[0;34m\u001b[0m\u001b[0;34m\u001b[0m\u001b[0m\n\u001b[0m\u001b[1;32m      3\u001b[0m     \u001b[0miter_after\u001b[0m \u001b[0;34m=\u001b[0m \u001b[0;36m0\u001b[0m\u001b[0;34m\u001b[0m\u001b[0;34m\u001b[0m\u001b[0m\n\u001b[1;32m      4\u001b[0m     \u001b[0mprint\u001b[0m\u001b[0;34m(\u001b[0m\u001b[0mcontactId\u001b[0m\u001b[0;34m)\u001b[0m\u001b[0;34m\u001b[0m\u001b[0;34m\u001b[0m\u001b[0m\n\u001b[1;32m      5\u001b[0m     \u001b[0;32mwhile\u001b[0m \u001b[0;34m(\u001b[0m\u001b[0miter_after\u001b[0m \u001b[0;32mis\u001b[0m \u001b[0;32mnot\u001b[0m \u001b[0;32mNone\u001b[0m\u001b[0;34m)\u001b[0m\u001b[0;34m:\u001b[0m\u001b[0;34m\u001b[0m\u001b[0;34m\u001b[0m\u001b[0m\n",
      "\u001b[0;31mNameError\u001b[0m: name 'df_hs' is not defined"
     ]
    }
   ],
   "source": [
    "df_hs_deals = pd.DataFrame(columns=hs_deal_properties)\n",
    "for contactId in df_hs['hs_object_id'].tolist():\n",
    "    iter_after = 0\n",
    "    print(contactId)\n",
    "    while (iter_after is not None):\n",
    "        data, iter_after = get_deals_from_hs(tstp_inicio, contactId, iter_after, hs_deal_properties)\n",
    "        unrolled_data = [x['properties'] for x in data]\n",
    "        df_hs_deals = df_hs_deals.append(unrolled_data, ignore_index=True)"
   ]
  },
  {
   "cell_type": "code",
   "execution_count": 227,
   "metadata": {},
   "outputs": [
    {
     "name": "stdout",
     "output_type": "stream",
     "text": [
      "(200, 11)\n",
      "145\n"
     ]
    }
   ],
   "source": [
    "print(df_hs_deals.shape)\n",
    "print(len(df_hs_deals['email'].unique()))"
   ]
  },
  {
   "cell_type": "code",
   "execution_count": 228,
   "metadata": {},
   "outputs": [],
   "source": [
    "df_hs_deals2 = pd.merge(df_hs_deals, df_hs_pipes, how='left', left_on='dealstage', right_on='id')"
   ]
  },
  {
   "cell_type": "code",
   "execution_count": 229,
   "metadata": {},
   "outputs": [
    {
     "data": {
      "text/plain": [
       "(200, 20)"
      ]
     },
     "execution_count": 229,
     "metadata": {},
     "output_type": "execute_result"
    }
   ],
   "source": [
    "df_hs_deals2.shape"
   ]
  },
  {
   "cell_type": "code",
   "execution_count": 230,
   "metadata": {},
   "outputs": [],
   "source": [
    "df_hs_deals3 = pd.merge(df_hs_deals2, df_hs_contatos, how='left', left_on='email', right_on='email')"
   ]
  },
  {
   "cell_type": "code",
   "execution_count": 231,
   "metadata": {},
   "outputs": [
    {
     "data": {
      "text/plain": [
       "(200, 28)"
      ]
     },
     "execution_count": 231,
     "metadata": {},
     "output_type": "execute_result"
    }
   ],
   "source": [
    "df_hs_deals3.shape"
   ]
  },
  {
   "cell_type": "code",
   "execution_count": 268,
   "metadata": {},
   "outputs": [],
   "source": [
    "df_hs_deals4 = pd.merge(df_hs_deals3, df_merged, how='inner', left_on='userid', right_on='ga:dimension1')"
   ]
  },
  {
   "cell_type": "code",
   "execution_count": 269,
   "metadata": {},
   "outputs": [
    {
     "data": {
      "text/plain": [
       "(217, 104)"
      ]
     },
     "execution_count": 269,
     "metadata": {},
     "output_type": "execute_result"
    }
   ],
   "source": [
    "df_hs_deals4.shape"
   ]
  },
  {
   "cell_type": "code",
   "execution_count": 270,
   "metadata": {},
   "outputs": [
    {
     "data": {
      "text/html": [
       "<div>\n",
       "<style scoped>\n",
       "    .dataframe tbody tr th:only-of-type {\n",
       "        vertical-align: middle;\n",
       "    }\n",
       "\n",
       "    .dataframe tbody tr th {\n",
       "        vertical-align: top;\n",
       "    }\n",
       "\n",
       "    .dataframe thead th {\n",
       "        text-align: right;\n",
       "    }\n",
       "</style>\n",
       "<table border=\"1\" class=\"dataframe\">\n",
       "  <thead>\n",
       "    <tr style=\"text-align: right;\">\n",
       "      <th></th>\n",
       "      <th>ga:experimentCombination</th>\n",
       "      <th>ga:dimension1</th>\n",
       "    </tr>\n",
       "  </thead>\n",
       "  <tbody>\n",
       "    <tr>\n",
       "      <th>1</th>\n",
       "      <td>Variante</td>\n",
       "      <td>102</td>\n",
       "    </tr>\n",
       "    <tr>\n",
       "      <th>0</th>\n",
       "      <td>Controle</td>\n",
       "      <td>115</td>\n",
       "    </tr>\n",
       "  </tbody>\n",
       "</table>\n",
       "</div>"
      ],
      "text/plain": [
       "  ga:experimentCombination  ga:dimension1\n",
       "1                 Variante            102\n",
       "0                 Controle            115"
      ]
     },
     "execution_count": 270,
     "metadata": {},
     "output_type": "execute_result"
    }
   ],
   "source": [
    "df_hs_deals4.groupby(by=[\"ga:experimentCombination\"]).count()['ga:dimension1'].reset_index().sort_values(by=['ga:experimentCombination', 'ga:dimension1'], ascending=False)"
   ]
  },
  {
   "cell_type": "code",
   "execution_count": 271,
   "metadata": {},
   "outputs": [
    {
     "data": {
      "text/html": [
       "<div>\n",
       "<style scoped>\n",
       "    .dataframe tbody tr th:only-of-type {\n",
       "        vertical-align: middle;\n",
       "    }\n",
       "\n",
       "    .dataframe tbody tr th {\n",
       "        vertical-align: top;\n",
       "    }\n",
       "\n",
       "    .dataframe thead th {\n",
       "        text-align: right;\n",
       "    }\n",
       "</style>\n",
       "<table border=\"1\" class=\"dataframe\">\n",
       "  <thead>\n",
       "    <tr style=\"text-align: right;\">\n",
       "      <th></th>\n",
       "      <th>ga:experimentCombination</th>\n",
       "      <th>label</th>\n",
       "      <th>ga:dimension1</th>\n",
       "    </tr>\n",
       "  </thead>\n",
       "  <tbody>\n",
       "    <tr>\n",
       "      <th>0</th>\n",
       "      <td>Controle</td>\n",
       "      <td>Cadastro Concluído</td>\n",
       "      <td>2</td>\n",
       "    </tr>\n",
       "    <tr>\n",
       "      <th>1</th>\n",
       "      <td>Controle</td>\n",
       "      <td>Cliente Interessado</td>\n",
       "      <td>4</td>\n",
       "    </tr>\n",
       "    <tr>\n",
       "      <th>3</th>\n",
       "      <td>Controle</td>\n",
       "      <td>Ganho</td>\n",
       "      <td>6</td>\n",
       "    </tr>\n",
       "    <tr>\n",
       "      <th>2</th>\n",
       "      <td>Controle</td>\n",
       "      <td>Disparo Massivo</td>\n",
       "      <td>21</td>\n",
       "    </tr>\n",
       "    <tr>\n",
       "      <th>4</th>\n",
       "      <td>Controle</td>\n",
       "      <td>Perdido</td>\n",
       "      <td>82</td>\n",
       "    </tr>\n",
       "    <tr>\n",
       "      <th>9</th>\n",
       "      <td>Variante</td>\n",
       "      <td>Proposta</td>\n",
       "      <td>2</td>\n",
       "    </tr>\n",
       "    <tr>\n",
       "      <th>10</th>\n",
       "      <td>Variante</td>\n",
       "      <td>Proposta Enviada</td>\n",
       "      <td>2</td>\n",
       "    </tr>\n",
       "    <tr>\n",
       "      <th>5</th>\n",
       "      <td>Variante</td>\n",
       "      <td>Cold Call + Email 2</td>\n",
       "      <td>5</td>\n",
       "    </tr>\n",
       "    <tr>\n",
       "      <th>6</th>\n",
       "      <td>Variante</td>\n",
       "      <td>Disparo Massivo</td>\n",
       "      <td>7</td>\n",
       "    </tr>\n",
       "    <tr>\n",
       "      <th>7</th>\n",
       "      <td>Variante</td>\n",
       "      <td>Ganho</td>\n",
       "      <td>10</td>\n",
       "    </tr>\n",
       "    <tr>\n",
       "      <th>8</th>\n",
       "      <td>Variante</td>\n",
       "      <td>Perdido</td>\n",
       "      <td>76</td>\n",
       "    </tr>\n",
       "  </tbody>\n",
       "</table>\n",
       "</div>"
      ],
      "text/plain": [
       "   ga:experimentCombination                label  ga:dimension1\n",
       "0                  Controle   Cadastro Concluído              2\n",
       "1                  Controle  Cliente Interessado              4\n",
       "3                  Controle                Ganho              6\n",
       "2                  Controle      Disparo Massivo             21\n",
       "4                  Controle              Perdido             82\n",
       "9                  Variante             Proposta              2\n",
       "10                 Variante     Proposta Enviada              2\n",
       "5                  Variante  Cold Call + Email 2              5\n",
       "6                  Variante      Disparo Massivo              7\n",
       "7                  Variante                Ganho             10\n",
       "8                  Variante              Perdido             76"
      ]
     },
     "execution_count": 271,
     "metadata": {},
     "output_type": "execute_result"
    }
   ],
   "source": [
    "df_hs_deals4.groupby(by=[\"ga:experimentCombination\", \"label\"]).count()['ga:dimension1'].reset_index().sort_values(by=['ga:experimentCombination', 'ga:dimension1'], ascending=True)"
   ]
  },
  {
   "cell_type": "code",
   "execution_count": 272,
   "metadata": {},
   "outputs": [
    {
     "data": {
      "text/html": [
       "<div>\n",
       "<style scoped>\n",
       "    .dataframe tbody tr th:only-of-type {\n",
       "        vertical-align: middle;\n",
       "    }\n",
       "\n",
       "    .dataframe tbody tr th {\n",
       "        vertical-align: top;\n",
       "    }\n",
       "\n",
       "    .dataframe thead th {\n",
       "        text-align: right;\n",
       "    }\n",
       "</style>\n",
       "<table border=\"1\" class=\"dataframe\">\n",
       "  <thead>\n",
       "    <tr style=\"text-align: right;\">\n",
       "      <th></th>\n",
       "      <th>closed_lost_reason</th>\n",
       "      <th>ga:experimentCombination</th>\n",
       "      <th>ga:dimension1</th>\n",
       "    </tr>\n",
       "  </thead>\n",
       "  <tbody>\n",
       "    <tr>\n",
       "      <th>0</th>\n",
       "      <td>Acessou por curiosidade</td>\n",
       "      <td>Controle</td>\n",
       "      <td>2</td>\n",
       "    </tr>\n",
       "    <tr>\n",
       "      <th>1</th>\n",
       "      <td>Acessou por curiosidade</td>\n",
       "      <td>Variante</td>\n",
       "      <td>3</td>\n",
       "    </tr>\n",
       "    <tr>\n",
       "      <th>2</th>\n",
       "      <td>Boleto - No show</td>\n",
       "      <td>Controle</td>\n",
       "      <td>2</td>\n",
       "    </tr>\n",
       "    <tr>\n",
       "      <th>3</th>\n",
       "      <td>CNAE não atendido</td>\n",
       "      <td>Controle</td>\n",
       "      <td>5</td>\n",
       "    </tr>\n",
       "    <tr>\n",
       "      <th>4</th>\n",
       "      <td>CNAE não atendido</td>\n",
       "      <td>Variante</td>\n",
       "      <td>2</td>\n",
       "    </tr>\n",
       "    <tr>\n",
       "      <th>5</th>\n",
       "      <td>Cidade não atendida</td>\n",
       "      <td>Variante</td>\n",
       "      <td>7</td>\n",
       "    </tr>\n",
       "    <tr>\n",
       "      <th>6</th>\n",
       "      <td>Duplicado</td>\n",
       "      <td>Controle</td>\n",
       "      <td>8</td>\n",
       "    </tr>\n",
       "    <tr>\n",
       "      <th>7</th>\n",
       "      <td>Duplicado</td>\n",
       "      <td>Variante</td>\n",
       "      <td>30</td>\n",
       "    </tr>\n",
       "    <tr>\n",
       "      <th>8</th>\n",
       "      <td>Escolheu outra contabilidade</td>\n",
       "      <td>Controle</td>\n",
       "      <td>1</td>\n",
       "    </tr>\n",
       "    <tr>\n",
       "      <th>9</th>\n",
       "      <td>Escolheu outra contabilidade</td>\n",
       "      <td>Variante</td>\n",
       "      <td>3</td>\n",
       "    </tr>\n",
       "    <tr>\n",
       "      <th>10</th>\n",
       "      <td>Escolheu outra contabilidade online</td>\n",
       "      <td>Variante</td>\n",
       "      <td>1</td>\n",
       "    </tr>\n",
       "    <tr>\n",
       "      <th>11</th>\n",
       "      <td>Geladeira - Abertura não prioridade</td>\n",
       "      <td>Controle</td>\n",
       "      <td>23</td>\n",
       "    </tr>\n",
       "    <tr>\n",
       "      <th>12</th>\n",
       "      <td>Geladeira - Abertura não prioridade</td>\n",
       "      <td>Variante</td>\n",
       "      <td>11</td>\n",
       "    </tr>\n",
       "    <tr>\n",
       "      <th>13</th>\n",
       "      <td>Geladeira - Migração não é prioridade</td>\n",
       "      <td>Variante</td>\n",
       "      <td>2</td>\n",
       "    </tr>\n",
       "    <tr>\n",
       "      <th>14</th>\n",
       "      <td>Já é cliente</td>\n",
       "      <td>Controle</td>\n",
       "      <td>6</td>\n",
       "    </tr>\n",
       "    <tr>\n",
       "      <th>15</th>\n",
       "      <td>Já é cliente</td>\n",
       "      <td>Variante</td>\n",
       "      <td>1</td>\n",
       "    </tr>\n",
       "    <tr>\n",
       "      <th>16</th>\n",
       "      <td>Quer abrir MEI</td>\n",
       "      <td>Controle</td>\n",
       "      <td>7</td>\n",
       "    </tr>\n",
       "    <tr>\n",
       "      <th>17</th>\n",
       "      <td>Quer abrir MEI</td>\n",
       "      <td>Variante</td>\n",
       "      <td>1</td>\n",
       "    </tr>\n",
       "    <tr>\n",
       "      <th>18</th>\n",
       "      <td>Quer migrar MEI</td>\n",
       "      <td>Variante</td>\n",
       "      <td>2</td>\n",
       "    </tr>\n",
       "    <tr>\n",
       "      <th>19</th>\n",
       "      <td>Sem contato</td>\n",
       "      <td>Controle</td>\n",
       "      <td>23</td>\n",
       "    </tr>\n",
       "    <tr>\n",
       "      <th>20</th>\n",
       "      <td>Sem contato</td>\n",
       "      <td>Variante</td>\n",
       "      <td>10</td>\n",
       "    </tr>\n",
       "    <tr>\n",
       "      <th>21</th>\n",
       "      <td>sonega</td>\n",
       "      <td>Controle</td>\n",
       "      <td>3</td>\n",
       "    </tr>\n",
       "    <tr>\n",
       "      <th>22</th>\n",
       "      <td>sonega</td>\n",
       "      <td>Variante</td>\n",
       "      <td>2</td>\n",
       "    </tr>\n",
       "  </tbody>\n",
       "</table>\n",
       "</div>"
      ],
      "text/plain": [
       "                       closed_lost_reason ga:experimentCombination  \\\n",
       "0                 Acessou por curiosidade                 Controle   \n",
       "1                 Acessou por curiosidade                 Variante   \n",
       "2                        Boleto - No show                 Controle   \n",
       "3                       CNAE não atendido                 Controle   \n",
       "4                       CNAE não atendido                 Variante   \n",
       "5                     Cidade não atendida                 Variante   \n",
       "6                               Duplicado                 Controle   \n",
       "7                               Duplicado                 Variante   \n",
       "8            Escolheu outra contabilidade                 Controle   \n",
       "9            Escolheu outra contabilidade                 Variante   \n",
       "10    Escolheu outra contabilidade online                 Variante   \n",
       "11    Geladeira - Abertura não prioridade                 Controle   \n",
       "12    Geladeira - Abertura não prioridade                 Variante   \n",
       "13  Geladeira - Migração não é prioridade                 Variante   \n",
       "14                           Já é cliente                 Controle   \n",
       "15                           Já é cliente                 Variante   \n",
       "16                         Quer abrir MEI                 Controle   \n",
       "17                         Quer abrir MEI                 Variante   \n",
       "18                        Quer migrar MEI                 Variante   \n",
       "19                            Sem contato                 Controle   \n",
       "20                            Sem contato                 Variante   \n",
       "21                                 sonega                 Controle   \n",
       "22                                 sonega                 Variante   \n",
       "\n",
       "    ga:dimension1  \n",
       "0               2  \n",
       "1               3  \n",
       "2               2  \n",
       "3               5  \n",
       "4               2  \n",
       "5               7  \n",
       "6               8  \n",
       "7              30  \n",
       "8               1  \n",
       "9               3  \n",
       "10              1  \n",
       "11             23  \n",
       "12             11  \n",
       "13              2  \n",
       "14              6  \n",
       "15              1  \n",
       "16              7  \n",
       "17              1  \n",
       "18              2  \n",
       "19             23  \n",
       "20             10  \n",
       "21              3  \n",
       "22              2  "
      ]
     },
     "execution_count": 272,
     "metadata": {},
     "output_type": "execute_result"
    }
   ],
   "source": [
    "df_hs_deals4.groupby(by=[\"closed_lost_reason\", \"ga:experimentCombination\"]).count()['ga:dimension1'].reset_index().sort_values(by=['closed_lost_reason', 'ga:experimentCombination', 'ga:dimension1'], ascending=True)"
   ]
  },
  {
   "cell_type": "code",
   "execution_count": 245,
   "metadata": {},
   "outputs": [],
   "source": [
    "df_hs_deals4.to_csv('deals-hs-sp-' + str(datetime.datetime.now().timestamp()) + '.csv')"
   ]
  },
  {
   "cell_type": "code",
   "execution_count": null,
   "metadata": {},
   "outputs": [],
   "source": []
  }
 ],
 "metadata": {
  "kernelspec": {
   "display_name": "Python 3",
   "language": "python",
   "name": "python3"
  },
  "language_info": {
   "codemirror_mode": {
    "name": "ipython",
    "version": 3
   },
   "file_extension": ".py",
   "mimetype": "text/x-python",
   "name": "python",
   "nbconvert_exporter": "python",
   "pygments_lexer": "ipython3",
   "version": "3.6.9-final"
  }
 },
 "nbformat": 4,
 "nbformat_minor": 2
}