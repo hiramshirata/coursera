{
 "metadata": {
  "language_info": {
   "codemirror_mode": {
    "name": "ipython",
    "version": 3
   },
   "file_extension": ".py",
   "mimetype": "text/x-python",
   "name": "python",
   "nbconvert_exporter": "python",
   "pygments_lexer": "ipython3",
   "version": "3.8.6-final"
  },
  "orig_nbformat": 2,
  "kernelspec": {
   "name": "python3",
   "display_name": "Python 3.8.6 64-bit",
   "metadata": {
    "interpreter": {
     "hash": "a2156d9e36dc9b42b2300322d96017e096929dd0f28c495908bffb6893ca086e"
    }
   }
  }
 },
 "nbformat": 4,
 "nbformat_minor": 2,
 "cells": [
  {
   "cell_type": "code",
   "execution_count": 2,
   "metadata": {},
   "outputs": [],
   "source": [
    "import pandas as pd\n",
    "\n",
    "file_path = 'C:\\\\Users\\\\Yugur\\\\Downloads\\\\archive\\\\MoviesOnStreamingPlatforms_updated.csv'\n",
    "\n",
    "df = pd.read_csv(file_path)"
   ]
  },
  {
   "cell_type": "code",
   "execution_count": 12,
   "metadata": {},
   "outputs": [],
   "source": [
    "df['alfred'] = df['Directors'].str.contains(pat='Alfred')"
   ]
  },
  {
   "cell_type": "code",
   "execution_count": 13,
   "metadata": {},
   "outputs": [
    {
     "output_type": "error",
     "ename": "ValueError",
     "evalue": "Cannot mask with non-boolean array containing NA / NaN values",
     "traceback": [
      "\u001b[1;31m---------------------------------------------------------------------------\u001b[0m",
      "\u001b[1;31mValueError\u001b[0m                                Traceback (most recent call last)",
      "\u001b[1;32m<ipython-input-13-0d45765c622c>\u001b[0m in \u001b[0;36m<module>\u001b[1;34m\u001b[0m\n\u001b[1;32m----> 1\u001b[1;33m \u001b[0mdf\u001b[0m\u001b[1;33m[\u001b[0m\u001b[0mdf\u001b[0m\u001b[1;33m[\u001b[0m\u001b[1;34m'alfred'\u001b[0m\u001b[1;33m]\u001b[0m\u001b[1;33m]\u001b[0m\u001b[1;33m.\u001b[0m\u001b[0mhead\u001b[0m\u001b[1;33m(\u001b[0m\u001b[1;36m10\u001b[0m\u001b[1;33m)\u001b[0m\u001b[1;33m\u001b[0m\u001b[1;33m\u001b[0m\u001b[0m\n\u001b[0m",
      "\u001b[1;32m~\\AppData\\Local\\Programs\\Python\\Python38\\lib\\site-packages\\pandas\\core\\frame.py\u001b[0m in \u001b[0;36m__getitem__\u001b[1;34m(self, key)\u001b[0m\n\u001b[0;32m   3012\u001b[0m \u001b[1;33m\u001b[0m\u001b[0m\n\u001b[0;32m   3013\u001b[0m         \u001b[1;31m# Do we have a (boolean) 1d indexer?\u001b[0m\u001b[1;33m\u001b[0m\u001b[1;33m\u001b[0m\u001b[1;33m\u001b[0m\u001b[0m\n\u001b[1;32m-> 3014\u001b[1;33m         \u001b[1;32mif\u001b[0m \u001b[0mcom\u001b[0m\u001b[1;33m.\u001b[0m\u001b[0mis_bool_indexer\u001b[0m\u001b[1;33m(\u001b[0m\u001b[0mkey\u001b[0m\u001b[1;33m)\u001b[0m\u001b[1;33m:\u001b[0m\u001b[1;33m\u001b[0m\u001b[1;33m\u001b[0m\u001b[0m\n\u001b[0m\u001b[0;32m   3015\u001b[0m             \u001b[1;32mreturn\u001b[0m \u001b[0mself\u001b[0m\u001b[1;33m.\u001b[0m\u001b[0m_getitem_bool_array\u001b[0m\u001b[1;33m(\u001b[0m\u001b[0mkey\u001b[0m\u001b[1;33m)\u001b[0m\u001b[1;33m\u001b[0m\u001b[1;33m\u001b[0m\u001b[0m\n\u001b[0;32m   3016\u001b[0m \u001b[1;33m\u001b[0m\u001b[0m\n",
      "\u001b[1;32m~\\AppData\\Local\\Programs\\Python\\Python38\\lib\\site-packages\\pandas\\core\\common.py\u001b[0m in \u001b[0;36mis_bool_indexer\u001b[1;34m(key)\u001b[0m\n\u001b[0;32m    112\u001b[0m                     \u001b[1;31m# Don't raise on e.g. [\"A\", \"B\", np.nan], see\u001b[0m\u001b[1;33m\u001b[0m\u001b[1;33m\u001b[0m\u001b[1;33m\u001b[0m\u001b[0m\n\u001b[0;32m    113\u001b[0m                     \u001b[1;31m#  test_loc_getitem_list_of_labels_categoricalindex_with_na\u001b[0m\u001b[1;33m\u001b[0m\u001b[1;33m\u001b[0m\u001b[1;33m\u001b[0m\u001b[0m\n\u001b[1;32m--> 114\u001b[1;33m                     \u001b[1;32mraise\u001b[0m \u001b[0mValueError\u001b[0m\u001b[1;33m(\u001b[0m\u001b[0mna_msg\u001b[0m\u001b[1;33m)\u001b[0m\u001b[1;33m\u001b[0m\u001b[1;33m\u001b[0m\u001b[0m\n\u001b[0m\u001b[0;32m    115\u001b[0m                 \u001b[1;32mreturn\u001b[0m \u001b[1;32mFalse\u001b[0m\u001b[1;33m\u001b[0m\u001b[1;33m\u001b[0m\u001b[0m\n\u001b[0;32m    116\u001b[0m             \u001b[1;32mreturn\u001b[0m \u001b[1;32mTrue\u001b[0m\u001b[1;33m\u001b[0m\u001b[1;33m\u001b[0m\u001b[0m\n",
      "\u001b[1;31mValueError\u001b[0m: Cannot mask with non-boolean array containing NA / NaN values"
     ]
    }
   ],
   "source": [
    "df[df['alfred']].head(10)"
   ]
  },
  {
   "cell_type": "code",
   "execution_count": 9,
   "metadata": {},
   "outputs": [
    {
     "output_type": "execute_result",
     "data": {
      "text/plain": [
       "                       Title\n",
       "Directors                   \n",
       "Jay Chapman               36\n",
       "Joseph Kane               30\n",
       "Cheh Chang                26\n",
       "Jim Wynorski              22\n",
       "Sam Newfield              22\n",
       "David DeCoteau            21\n",
       "William Beaudine          21\n",
       "Jay Karas                 20\n",
       "Raúl Campos,Jan Suter     20\n",
       "Marcus Raboy              18\n",
       "Scott L. Montoya          17\n",
       "Fred Olen Ray             17\n",
       "William Witney            17\n",
       "Mark Atkins               16\n",
       "Lesley Selander           16\n",
       "Paul Hoen                 15\n",
       "William Nigh              14\n",
       "Robert N. Bradbury        13\n",
       "Philip Gardiner           13\n",
       "Robert Stevenson          13"
      ],
      "text/html": "<div>\n<style scoped>\n    .dataframe tbody tr th:only-of-type {\n        vertical-align: middle;\n    }\n\n    .dataframe tbody tr th {\n        vertical-align: top;\n    }\n\n    .dataframe thead th {\n        text-align: right;\n    }\n</style>\n<table border=\"1\" class=\"dataframe\">\n  <thead>\n    <tr style=\"text-align: right;\">\n      <th></th>\n      <th>Title</th>\n    </tr>\n    <tr>\n      <th>Directors</th>\n      <th></th>\n    </tr>\n  </thead>\n  <tbody>\n    <tr>\n      <th>Jay Chapman</th>\n      <td>36</td>\n    </tr>\n    <tr>\n      <th>Joseph Kane</th>\n      <td>30</td>\n    </tr>\n    <tr>\n      <th>Cheh Chang</th>\n      <td>26</td>\n    </tr>\n    <tr>\n      <th>Jim Wynorski</th>\n      <td>22</td>\n    </tr>\n    <tr>\n      <th>Sam Newfield</th>\n      <td>22</td>\n    </tr>\n    <tr>\n      <th>David DeCoteau</th>\n      <td>21</td>\n    </tr>\n    <tr>\n      <th>William Beaudine</th>\n      <td>21</td>\n    </tr>\n    <tr>\n      <th>Jay Karas</th>\n      <td>20</td>\n    </tr>\n    <tr>\n      <th>Raúl Campos,Jan Suter</th>\n      <td>20</td>\n    </tr>\n    <tr>\n      <th>Marcus Raboy</th>\n      <td>18</td>\n    </tr>\n    <tr>\n      <th>Scott L. Montoya</th>\n      <td>17</td>\n    </tr>\n    <tr>\n      <th>Fred Olen Ray</th>\n      <td>17</td>\n    </tr>\n    <tr>\n      <th>William Witney</th>\n      <td>17</td>\n    </tr>\n    <tr>\n      <th>Mark Atkins</th>\n      <td>16</td>\n    </tr>\n    <tr>\n      <th>Lesley Selander</th>\n      <td>16</td>\n    </tr>\n    <tr>\n      <th>Paul Hoen</th>\n      <td>15</td>\n    </tr>\n    <tr>\n      <th>William Nigh</th>\n      <td>14</td>\n    </tr>\n    <tr>\n      <th>Robert N. Bradbury</th>\n      <td>13</td>\n    </tr>\n    <tr>\n      <th>Philip Gardiner</th>\n      <td>13</td>\n    </tr>\n    <tr>\n      <th>Robert Stevenson</th>\n      <td>13</td>\n    </tr>\n  </tbody>\n</table>\n</div>"
     },
     "metadata": {},
     "execution_count": 9
    }
   ],
   "source": [
    "directors = df.groupby(by=['Directors']).agg({\"Title\":pd.Series.nunique}).sort_values(by=['Title'], ascending=False)\n"
   ]
  }
 ]
}